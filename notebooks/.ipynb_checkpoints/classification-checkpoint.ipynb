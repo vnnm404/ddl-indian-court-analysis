{
 "cells": [
  {
   "cell_type": "markdown",
   "id": "af1e26ff-4b08-482e-851a-839d947f7373",
   "metadata": {},
   "source": [
    "# Classification\n",
    "This is my first attempt at an interesting classification problem. During data exploration and analysis, I noticed many patterns concerning cases in which the defendant plead guilty such as\n",
    "\n",
    "* shorter cases\n",
    "* gender distribution\n",
    "* state disposition\n",
    "* type of crime\n",
    "\n",
    "These are not enough to determine whether a defendant pleads guilty or not of course, but there does seem to be some correlation. I hope to explore this pattern in this notebook and find out whether it is possible to predict if a defendant pleads guilty just from the data given to us.\n",
    "\n",
    "## Outcomes\n",
    "If we find that such a pattern does exist in cases then it is possible to predict a lot of court data, it could help courts speed up resolving cases, it could help prosecution with techniques to increase the chances of the defendant pleading guilty and so on.\n",
    "\n",
    "## Technical Aspects\n",
    "This is a binary classification problem which avoids the overhead of `ovo` or `ova` solutions to multiclassification however we still have to clean the data.\n",
    "\n",
    "We will use the sklearn classification report to gauge the accuracy of the models, specifically because of the recall."
   ]
  },
  {
   "cell_type": "markdown",
   "id": "c0c87157-4b92-42db-a60d-d19169bf7cf1",
   "metadata": {},
   "source": [
    "#### Features\n",
    "For the above classification, we choose the following features,\n",
    "\n",
    "* the `state` at which the case was held\n",
    "* the `court` at which the case was held\n",
    "* the `judge` position\n",
    "* the `gender` of the defendant\n",
    "* the `gender` of the judge\n",
    "* the `type` of case\n",
    "* the `purpose` of the case\n",
    "* the `act`\n",
    "* whether the case was of `criminal` nature or not\n",
    "* `time` taken to decide on the case"
   ]
  },
  {
   "cell_type": "markdown",
   "id": "516822b9-6294-4106-a9bc-a838a7465971",
   "metadata": {},
   "source": [
    "### Pre-processing\n",
    "Our data consists of `../data/_baked/cases_recorded.csv` and helper tables in `../data/keys/`.\n",
    "\n",
    "Before we can train models, we have to prepare the data. This is done with,\n",
    "\n",
    "* merging with judge details (judge gender and position likely impacts a defendant's decision to plead guilty)\n",
    "* dropping columns and rows with missing or conflicting data and working with dates\n",
    "* one hot encoding non numerical data with no inherent order like purpose_name\n",
    "* transforming numerical columns to have the same weight"
   ]
  },
  {
   "cell_type": "code",
   "execution_count": 2,
   "id": "318e5c0b-ca83-4e42-bc92-05a866331520",
   "metadata": {},
   "outputs": [],
   "source": [
    "import pandas as pd"
   ]
  },
  {
   "cell_type": "markdown",
   "id": "41b763c0-fb86-4c3e-acda-43226ac156ee",
   "metadata": {},
   "source": [
    "### Dropping Columns or Rows\n",
    "Below, we clean our data of unhelpful columns and rows. We also clean out missing values and incorrectly formatted data.\n",
    "\n",
    "* We remove rows whose date isn't in any valid format.\n",
    "* We remove columns whose values are mostly `na`.\n",
    "* Clean up columns such as the gender columns.\n",
    "\n",
    "The following changes to the DataFrame has been made,\n",
    "1. column 'bailable_ipc' is dropped (mostly na)\n",
    "2. column 'dist_code' is dropped (district is too specific and unrelated to affect results)\n",
    "3. column 'cino', 'judge_id', and 'ddl_case_id' is dropped (id rows are unimportant to a classifier)\n",
    "4. drop rows with unclear gender and convert gender to a numerical column (0 if male, 1 if female)"
   ]
  },
  {
   "cell_type": "code",
   "execution_count": 4,
   "id": "1706724f-48d8-498f-a44f-2c610d336710",
   "metadata": {},
   "outputs": [],
   "source": [
    "CHUNK_SIZE = 100_000"
   ]
  },
  {
   "cell_type": "code",
   "execution_count": 5,
   "id": "d82f25f0-1ab7-4b82-8f1f-e70c585817f8",
   "metadata": {},
   "outputs": [],
   "source": [
    "# decision judge with case id\n",
    "judge_case_df = pd.read_csv('../data/keys/judge_case_merge_key.csv')\n",
    "judge_case_df.drop(['ddl_filing_judge_id'], axis=1, inplace=True)"
   ]
  },
  {
   "cell_type": "code",
   "execution_count": 6,
   "id": "3208ee96-b68f-49df-ad2e-204420d587e5",
   "metadata": {},
   "outputs": [],
   "source": [
    "# rename column\n",
    "judge_case_cols = list(judge_case_df.columns)\n",
    "judge_case_cols[1] = 'ddl_judge_id'\n",
    "judge_case_df.columns = judge_case_cols"
   ]
  },
  {
   "cell_type": "code",
   "execution_count": 7,
   "id": "9f066bbe-3fac-4a42-99a0-57b67a3a7f5a",
   "metadata": {},
   "outputs": [],
   "source": [
    "# judges df\n",
    "judges_df = pd.read_csv('../data/judges_clean.csv')\n",
    "judges_df = judges_df[['ddl_judge_id', 'female_judge']]"
   ]
  },
  {
   "cell_type": "code",
   "execution_count": 8,
   "id": "6cc96eb3-68d9-42cf-ae48-3cc3be0f996c",
   "metadata": {},
   "outputs": [],
   "source": [
    "# merge the two dfs\n",
    "judge_data_df = pd.merge(judge_case_df, judges_df, on='ddl_judge_id', how='inner')"
   ]
  },
  {
   "cell_type": "code",
   "execution_count": 9,
   "id": "9a6de210-b8bd-477c-97f9-d112b44ae0c2",
   "metadata": {},
   "outputs": [
    {
     "data": {
      "text/html": [
       "<div>\n",
       "<style scoped>\n",
       "    .dataframe tbody tr th:only-of-type {\n",
       "        vertical-align: middle;\n",
       "    }\n",
       "\n",
       "    .dataframe tbody tr th {\n",
       "        vertical-align: top;\n",
       "    }\n",
       "\n",
       "    .dataframe thead th {\n",
       "        text-align: right;\n",
       "    }\n",
       "</style>\n",
       "<table border=\"1\" class=\"dataframe\">\n",
       "  <thead>\n",
       "    <tr style=\"text-align: right;\">\n",
       "      <th></th>\n",
       "      <th>ddl_case_id</th>\n",
       "      <th>ddl_judge_id</th>\n",
       "      <th>female_judge</th>\n",
       "    </tr>\n",
       "  </thead>\n",
       "  <tbody>\n",
       "    <tr>\n",
       "      <th>0</th>\n",
       "      <td>01-01-01-201900000022018</td>\n",
       "      <td>5.0</td>\n",
       "      <td>0 nonfemale</td>\n",
       "    </tr>\n",
       "    <tr>\n",
       "      <th>1</th>\n",
       "      <td>01-01-01-201900000032017</td>\n",
       "      <td>5.0</td>\n",
       "      <td>0 nonfemale</td>\n",
       "    </tr>\n",
       "    <tr>\n",
       "      <th>2</th>\n",
       "      <td>01-01-01-201900000042016</td>\n",
       "      <td>5.0</td>\n",
       "      <td>0 nonfemale</td>\n",
       "    </tr>\n",
       "    <tr>\n",
       "      <th>3</th>\n",
       "      <td>01-01-01-201900000052018</td>\n",
       "      <td>5.0</td>\n",
       "      <td>0 nonfemale</td>\n",
       "    </tr>\n",
       "    <tr>\n",
       "      <th>4</th>\n",
       "      <td>01-01-01-201900000072016</td>\n",
       "      <td>5.0</td>\n",
       "      <td>0 nonfemale</td>\n",
       "    </tr>\n",
       "    <tr>\n",
       "      <th>...</th>\n",
       "      <td>...</td>\n",
       "      <td>...</td>\n",
       "      <td>...</td>\n",
       "    </tr>\n",
       "    <tr>\n",
       "      <th>12290700</th>\n",
       "      <td>30-02-05-204000000162014</td>\n",
       "      <td>98405.0</td>\n",
       "      <td>1 female</td>\n",
       "    </tr>\n",
       "    <tr>\n",
       "      <th>12290701</th>\n",
       "      <td>30-02-06-201400000682011</td>\n",
       "      <td>98452.0</td>\n",
       "      <td>0 nonfemale</td>\n",
       "    </tr>\n",
       "    <tr>\n",
       "      <th>12290702</th>\n",
       "      <td>30-02-06-201400000992011</td>\n",
       "      <td>98452.0</td>\n",
       "      <td>0 nonfemale</td>\n",
       "    </tr>\n",
       "    <tr>\n",
       "      <th>12290703</th>\n",
       "      <td>30-02-06-201400001092011</td>\n",
       "      <td>98452.0</td>\n",
       "      <td>0 nonfemale</td>\n",
       "    </tr>\n",
       "    <tr>\n",
       "      <th>12290704</th>\n",
       "      <td>30-02-06-201400001242011</td>\n",
       "      <td>98452.0</td>\n",
       "      <td>0 nonfemale</td>\n",
       "    </tr>\n",
       "  </tbody>\n",
       "</table>\n",
       "<p>12290705 rows × 3 columns</p>\n",
       "</div>"
      ],
      "text/plain": [
       "                       ddl_case_id  ddl_judge_id female_judge\n",
       "0         01-01-01-201900000022018           5.0  0 nonfemale\n",
       "1         01-01-01-201900000032017           5.0  0 nonfemale\n",
       "2         01-01-01-201900000042016           5.0  0 nonfemale\n",
       "3         01-01-01-201900000052018           5.0  0 nonfemale\n",
       "4         01-01-01-201900000072016           5.0  0 nonfemale\n",
       "...                            ...           ...          ...\n",
       "12290700  30-02-05-204000000162014       98405.0     1 female\n",
       "12290701  30-02-06-201400000682011       98452.0  0 nonfemale\n",
       "12290702  30-02-06-201400000992011       98452.0  0 nonfemale\n",
       "12290703  30-02-06-201400001092011       98452.0  0 nonfemale\n",
       "12290704  30-02-06-201400001242011       98452.0  0 nonfemale\n",
       "\n",
       "[12290705 rows x 3 columns]"
      ]
     },
     "execution_count": 9,
     "metadata": {},
     "output_type": "execute_result"
    }
   ],
   "source": [
    "judge_data_df"
   ]
  },
  {
   "cell_type": "code",
   "execution_count": 10,
   "id": "7d645905-2371-46ab-ab00-90aa69f21af8",
   "metadata": {},
   "outputs": [
    {
     "name": "stdout",
     "output_type": "stream",
     "text": [
      "......................................................................................................................................................................................................................................................................................................................................................................................................................................................................................................................................................................................................................................................................................Done.\n",
      "CPU times: total: 1h 57min 51s\n",
      "Wall time: 1h 58min 7s\n"
     ]
    }
   ],
   "source": [
    "%%time\n",
    "# in this cell we bake our data to extract features\n",
    "cases_df = pd.read_csv('../data/_baked/cases_recorded.csv',\n",
    "                iterator=True,\n",
    "                chunksize=CHUNK_SIZE,\n",
    "                low_memory=False)\n",
    "\n",
    "chunk = 1\n",
    "for df in cases_df:\n",
    "    # PART1: merging to obtain decision judge gender\n",
    "    df = pd.merge(df, judge_data_df, on='ddl_case_id', how='inner')\n",
    "\n",
    "    # PART2: working with irrelevant columns\n",
    "    df.drop(['bailable_ipc', 'dist_code', 'ddl_case_id', 'section',\n",
    "             'cino', 'ddl_judge_id', 'number_sections_ipc',\n",
    "             'female_adv_pet', 'female_adv_def', 'female_petitioner',\n",
    "             'date_first_list', 'date_last_list', 'date_next_list',\n",
    "             'year'\n",
    "            ], axis=1, inplace=True)\n",
    "\n",
    "    # PART3: working with dates\n",
    "    date_columns = ['date_of_decision', 'date_of_filing']\n",
    "    # parse date columns as dates\n",
    "    for date_col in date_columns:\n",
    "        df[date_col] = pd.to_datetime(df[date_col], infer_datetime_format=True, errors='coerce')\n",
    "    \n",
    "    # drop rows whose dates could not be parsed\n",
    "    df.dropna(subset=date_columns, inplace=True)\n",
    "    \n",
    "    # add duration column\n",
    "    df['duration_days'] = (df['date_of_decision'] -df['date_of_filing']).dt.days\n",
    "    # drop the date columns\n",
    "    df.drop(date_columns, axis=1, inplace=True)\n",
    "    # take valid duration rows\n",
    "    df = df[df['duration_days'] >= 0]\n",
    "\n",
    "    # PART4: working with gender columns\n",
    "    gender_columns = ['female_judge', 'female_defendant']\n",
    "    # filter out unclear genders\n",
    "    for gender_col in gender_columns:\n",
    "        # filter on valid data\n",
    "        df[gender_col] = df[gender_col].astype(str).transform(lambda gen: gen[0])\n",
    "        gender_valid_filt = (df[gender_col] == '0') | (df[gender_col] == '1')\n",
    "        df = df[gender_valid_filt]\n",
    "\n",
    "        # convert to numeric column\n",
    "        df[gender_col] = pd.to_numeric(df[gender_col])\n",
    "    \n",
    "    # write df_acts_sections to a data file\n",
    "    df.to_csv('../data/_baked/ml/plead_guilty.csv',\n",
    "              header=(chunk == 1),\n",
    "              mode='a',\n",
    "              index=False)\n",
    "\n",
    "    print('.', end='')\n",
    "    chunk += 1\n",
    "\n",
    "print('Done.')"
   ]
  },
  {
   "cell_type": "code",
   "execution_count": 11,
   "id": "06d0e60c-358a-4bfd-bb26-957586e3e4e0",
   "metadata": {},
   "outputs": [],
   "source": [
    "# we now load the dataset\n",
    "features_df = pd.read_csv('../data/_baked/ml/plead_guilty.csv', low_memory=False) "
   ]
  },
  {
   "cell_type": "code",
   "execution_count": 12,
   "id": "99c26b79-5fcb-486a-8612-f0a09fdc483b",
   "metadata": {},
   "outputs": [
    {
     "data": {
      "text/plain": [
       "3     1157680\n",
       "1     1104544\n",
       "2      935136\n",
       "4      450974\n",
       "5      338894\n",
       "6      198620\n",
       "8      140178\n",
       "7      124446\n",
       "9       88557\n",
       "10      84810\n",
       "11      84339\n",
       "14      75792\n",
       "13      71535\n",
       "15      69483\n",
       "12      46337\n",
       "17      43064\n",
       "18      41779\n",
       "21      36739\n",
       "16      36451\n",
       "20      35629\n",
       "19      31144\n",
       "22      20297\n",
       "23      15302\n",
       "26      14130\n",
       "24      12142\n",
       "53      10866\n",
       "29      10474\n",
       "27      10328\n",
       "32      10286\n",
       "25       4688\n",
       "28       4421\n",
       "42       3417\n",
       "31       3123\n",
       "38       2121\n",
       "36       1588\n",
       "30       1523\n",
       "39       1325\n",
       "34       1176\n",
       "35       1056\n",
       "33       1007\n",
       "41        922\n",
       "40        825\n",
       "43        790\n",
       "46        553\n",
       "49        551\n",
       "45        379\n",
       "44        306\n",
       "58        285\n",
       "48        194\n",
       "65        167\n",
       "59        150\n",
       "37        109\n",
       "66         95\n",
       "47         10\n",
       "60          5\n",
       "50          1\n",
       "Name: court_no, dtype: int64"
      ]
     },
     "execution_count": 12,
     "metadata": {},
     "output_type": "execute_result"
    }
   ],
   "source": [
    "features_df['court_no'].value_counts()"
   ]
  },
  {
   "cell_type": "code",
   "execution_count": 13,
   "id": "12645ac0-1006-44ac-8282-d5948bec2cb0",
   "metadata": {},
   "outputs": [
    {
     "data": {
      "text/plain": [
       "4551.0    198889\n",
       "4889.0    162445\n",
       "4342.0    125443\n",
       "4922.0    109011\n",
       "3229.0    102826\n",
       "           ...  \n",
       "4510.0         1\n",
       "3115.0         1\n",
       "2983.0         1\n",
       "3081.0         1\n",
       "6239.0         1\n",
       "Name: purpose_name, Length: 7321, dtype: int64"
      ]
     },
     "execution_count": 13,
     "metadata": {},
     "output_type": "execute_result"
    }
   ],
   "source": [
    "features_df['purpose_name'].value_counts()"
   ]
  },
  {
   "cell_type": "code",
   "execution_count": 14,
   "id": "b425353b-ebcd-4420-b215-7fee4223f15e",
   "metadata": {},
   "outputs": [
    {
     "data": {
      "text/plain": [
       "929.0     95227\n",
       "956.0     59577\n",
       "981.0     54944\n",
       "736.0     54385\n",
       "915.0     53202\n",
       "          ...  \n",
       "5939.0        1\n",
       "4158.0        1\n",
       "1141.0        1\n",
       "1055.0        1\n",
       "7532.0        1\n",
       "Name: type_name, Length: 6233, dtype: int64"
      ]
     },
     "execution_count": 14,
     "metadata": {},
     "output_type": "execute_result"
    }
   ],
   "source": [
    "features_df['type_name'].value_counts()"
   ]
  },
  {
   "cell_type": "code",
   "execution_count": 15,
   "id": "90fda7af-219e-401f-ae66-c97e13c55555",
   "metadata": {},
   "outputs": [
    {
     "data": {
      "text/plain": [
       "17353.0    3659901\n",
       "4759.0     1408500\n",
       "14451.0      89587\n",
       "14409.0      60679\n",
       "14134.0      30074\n",
       "            ...   \n",
       "4245.0           1\n",
       "5688.0           1\n",
       "17170.0          1\n",
       "8105.0           1\n",
       "7735.0           1\n",
       "Name: act, Length: 288, dtype: int64"
      ]
     },
     "execution_count": 15,
     "metadata": {},
     "output_type": "execute_result"
    }
   ],
   "source": [
    "features_df['act'].value_counts()"
   ]
  },
  {
   "cell_type": "code",
   "execution_count": 17,
   "id": "44483658-f6c4-4b03-9162-6833c356b01e",
   "metadata": {},
   "outputs": [
    {
     "data": {
      "text/plain": [
       "Index(['state_code', 'court_no', 'judge_position', 'female_defendant',\n",
       "       'type_name', 'purpose_name', 'disp_name', 'act', 'criminal',\n",
       "       'female_judge', 'duration_days'],\n",
       "      dtype='object')"
      ]
     },
     "execution_count": 17,
     "metadata": {},
     "output_type": "execute_result"
    }
   ],
   "source": [
    "features_df.columns"
   ]
  },
  {
   "cell_type": "code",
   "execution_count": 23,
   "id": "c0dbc85b-f683-48ee-9acc-58450e250aeb",
   "metadata": {},
   "outputs": [
    {
     "data": {
      "text/plain": [
       "17353.0    92267\n",
       "14134.0    27411\n",
       "14451.0    10507\n",
       "4759.0      4003\n",
       "14124.0     1200\n",
       "7530.0       534\n",
       "14409.0      356\n",
       "18295.0      265\n",
       "25795.0      241\n",
       "14411.0      177\n",
       "530.0        166\n",
       "490.0        159\n",
       "14454.0      149\n",
       "481.0        118\n",
       "423.0        112\n",
       "14452.0      104\n",
       "7896.0        71\n",
       "14405.0       69\n",
       "4241.0        59\n",
       "29715.0       51\n",
       "14133.0       51\n",
       "24083.0       50\n",
       "25049.0       44\n",
       "492.0         43\n",
       "483.0         37\n",
       "14442.0       36\n",
       "28735.0       29\n",
       "28742.0       21\n",
       "28741.0       21\n",
       "25798.0       21\n",
       "7899.0        13\n",
       "5084.0        12\n",
       "24752.0        9\n",
       "525.0          8\n",
       "24078.0        7\n",
       "24200.0        6\n",
       "24079.0        6\n",
       "17509.0        4\n",
       "24742.0        3\n",
       "486.0          3\n",
       "7581.0         2\n",
       "7531.0         2\n",
       "12587.0        2\n",
       "2301.0         1\n",
       "16907.0        1\n",
       "21648.0        1\n",
       "24743.0        1\n",
       "7765.0         1\n",
       "5115.0         1\n",
       "24072.0        1\n",
       "19980.0        1\n",
       "4236.0         1\n",
       "14130.0        1\n",
       "533.0          1\n",
       "Name: act, dtype: int64"
      ]
     },
     "execution_count": 23,
     "metadata": {},
     "output_type": "execute_result"
    }
   ],
   "source": [
    "pg_filt = (features_df['disp_name'] == 37) | (features_df['disp_name'] == 38)\n",
    "features_df[pg_filt]['act'].value_counts()"
   ]
  },
  {
   "cell_type": "code",
   "execution_count": 30,
   "id": "7ee66dac-7324-432b-9ae2-392255160907",
   "metadata": {},
   "outputs": [],
   "source": [
    "# we remove every act from '7896.0        71' and below (top)\n",
    "keep_acts = list(features_df[pg_filt]['act'].value_counts().index[:16])"
   ]
  },
  {
   "cell_type": "code",
   "execution_count": 33,
   "id": "c5dde9ab-b3af-42ab-b248-f245db1eedcf",
   "metadata": {},
   "outputs": [],
   "source": [
    "act_filt = features_df['act'].isin(keep_acts)\n",
    "features_df2 = features_df[act_filt]"
   ]
  },
  {
   "cell_type": "code",
   "execution_count": 64,
   "id": "e7c9a982-9904-4abe-b123-7b936387b828",
   "metadata": {},
   "outputs": [],
   "source": [
    "keep_courts = features_df2['court_no'].value_counts().index[:22]"
   ]
  },
  {
   "cell_type": "code",
   "execution_count": 65,
   "id": "bb31b907-04ba-4827-b002-bf63dcbefef4",
   "metadata": {},
   "outputs": [],
   "source": [
    "court_filt = features_df2['court_no'].isin(keep_courts)\n",
    "features_df3 = features_df2[court_filt]"
   ]
  },
  {
   "cell_type": "code",
   "execution_count": 76,
   "id": "923f43ff-b499-4828-9653-4bf1220cf31e",
   "metadata": {},
   "outputs": [],
   "source": [
    "pg_filt3 = (features_df3['disp_name'] == 37) | (features_df3['disp_name'] == 38)\n",
    "keep_types = features_df3[pg_filt3]['type_name'].value_counts().index[:20]"
   ]
  },
  {
   "cell_type": "code",
   "execution_count": 77,
   "id": "77c4a00d-dd3a-447b-b73a-fd36057323a8",
   "metadata": {},
   "outputs": [],
   "source": [
    "type_filt = features_df3['type_name'].isin(keep_types)\n",
    "features_df4 = features_df3[type_filt]"
   ]
  },
  {
   "cell_type": "code",
   "execution_count": 85,
   "id": "dbd49dff-05f3-4fd6-8246-27c436b913cb",
   "metadata": {},
   "outputs": [],
   "source": [
    "pg_filt4 = (features_df4['disp_name'] == 37) | (features_df4['disp_name'] == 38)\n",
    "keep_purposes = features_df4['purpose_name'].value_counts().index[:25]"
   ]
  },
  {
   "cell_type": "code",
   "execution_count": 87,
   "id": "ed8e838b-067f-46ba-bbc6-6dcd5ed1ca92",
   "metadata": {},
   "outputs": [],
   "source": [
    "purpose_filt = features_df4['purpose_name'].isin(keep_purposes)\n",
    "features_df5 = features_df4[purpose_filt]"
   ]
  },
  {
   "cell_type": "code",
   "execution_count": 88,
   "id": "ee93bc5e-5f3a-45f3-b1e7-a89a93836945",
   "metadata": {},
   "outputs": [
    {
     "data": {
      "text/html": [
       "<div>\n",
       "<style scoped>\n",
       "    .dataframe tbody tr th:only-of-type {\n",
       "        vertical-align: middle;\n",
       "    }\n",
       "\n",
       "    .dataframe tbody tr th {\n",
       "        vertical-align: top;\n",
       "    }\n",
       "\n",
       "    .dataframe thead th {\n",
       "        text-align: right;\n",
       "    }\n",
       "</style>\n",
       "<table border=\"1\" class=\"dataframe\">\n",
       "  <thead>\n",
       "    <tr style=\"text-align: right;\">\n",
       "      <th></th>\n",
       "      <th>state_code</th>\n",
       "      <th>court_no</th>\n",
       "      <th>judge_position</th>\n",
       "      <th>female_defendant</th>\n",
       "      <th>type_name</th>\n",
       "      <th>purpose_name</th>\n",
       "      <th>disp_name</th>\n",
       "      <th>act</th>\n",
       "      <th>criminal</th>\n",
       "      <th>female_judge</th>\n",
       "      <th>duration_days</th>\n",
       "    </tr>\n",
       "  </thead>\n",
       "  <tbody>\n",
       "    <tr>\n",
       "      <th>869593</th>\n",
       "      <td>17</td>\n",
       "      <td>2</td>\n",
       "      <td>civil court</td>\n",
       "      <td>0</td>\n",
       "      <td>929.0</td>\n",
       "      <td>4512.0</td>\n",
       "      <td>37</td>\n",
       "      <td>17353.0</td>\n",
       "      <td>1</td>\n",
       "      <td>1</td>\n",
       "      <td>1348</td>\n",
       "    </tr>\n",
       "    <tr>\n",
       "      <th>869619</th>\n",
       "      <td>17</td>\n",
       "      <td>2</td>\n",
       "      <td>civil court</td>\n",
       "      <td>0</td>\n",
       "      <td>929.0</td>\n",
       "      <td>4512.0</td>\n",
       "      <td>37</td>\n",
       "      <td>17353.0</td>\n",
       "      <td>1</td>\n",
       "      <td>1</td>\n",
       "      <td>1381</td>\n",
       "    </tr>\n",
       "    <tr>\n",
       "      <th>869627</th>\n",
       "      <td>17</td>\n",
       "      <td>2</td>\n",
       "      <td>civil court</td>\n",
       "      <td>0</td>\n",
       "      <td>929.0</td>\n",
       "      <td>4512.0</td>\n",
       "      <td>37</td>\n",
       "      <td>17353.0</td>\n",
       "      <td>1</td>\n",
       "      <td>1</td>\n",
       "      <td>1429</td>\n",
       "    </tr>\n",
       "    <tr>\n",
       "      <th>869644</th>\n",
       "      <td>17</td>\n",
       "      <td>2</td>\n",
       "      <td>civil court</td>\n",
       "      <td>0</td>\n",
       "      <td>929.0</td>\n",
       "      <td>4512.0</td>\n",
       "      <td>37</td>\n",
       "      <td>17353.0</td>\n",
       "      <td>1</td>\n",
       "      <td>1</td>\n",
       "      <td>1309</td>\n",
       "    </tr>\n",
       "    <tr>\n",
       "      <th>870973</th>\n",
       "      <td>17</td>\n",
       "      <td>2</td>\n",
       "      <td>civil court</td>\n",
       "      <td>0</td>\n",
       "      <td>929.0</td>\n",
       "      <td>4512.0</td>\n",
       "      <td>37</td>\n",
       "      <td>17353.0</td>\n",
       "      <td>1</td>\n",
       "      <td>1</td>\n",
       "      <td>1472</td>\n",
       "    </tr>\n",
       "    <tr>\n",
       "      <th>...</th>\n",
       "      <td>...</td>\n",
       "      <td>...</td>\n",
       "      <td>...</td>\n",
       "      <td>...</td>\n",
       "      <td>...</td>\n",
       "      <td>...</td>\n",
       "      <td>...</td>\n",
       "      <td>...</td>\n",
       "      <td>...</td>\n",
       "      <td>...</td>\n",
       "      <td>...</td>\n",
       "    </tr>\n",
       "    <tr>\n",
       "      <th>5198509</th>\n",
       "      <td>17</td>\n",
       "      <td>2</td>\n",
       "      <td>civil court</td>\n",
       "      <td>0</td>\n",
       "      <td>977.0</td>\n",
       "      <td>6208.0</td>\n",
       "      <td>38</td>\n",
       "      <td>17353.0</td>\n",
       "      <td>1</td>\n",
       "      <td>1</td>\n",
       "      <td>3</td>\n",
       "    </tr>\n",
       "    <tr>\n",
       "      <th>5198517</th>\n",
       "      <td>17</td>\n",
       "      <td>2</td>\n",
       "      <td>civil court</td>\n",
       "      <td>0</td>\n",
       "      <td>977.0</td>\n",
       "      <td>6208.0</td>\n",
       "      <td>38</td>\n",
       "      <td>17353.0</td>\n",
       "      <td>1</td>\n",
       "      <td>1</td>\n",
       "      <td>0</td>\n",
       "    </tr>\n",
       "    <tr>\n",
       "      <th>5198521</th>\n",
       "      <td>17</td>\n",
       "      <td>2</td>\n",
       "      <td>civil court</td>\n",
       "      <td>0</td>\n",
       "      <td>977.0</td>\n",
       "      <td>6208.0</td>\n",
       "      <td>38</td>\n",
       "      <td>17353.0</td>\n",
       "      <td>1</td>\n",
       "      <td>1</td>\n",
       "      <td>5</td>\n",
       "    </tr>\n",
       "    <tr>\n",
       "      <th>5200341</th>\n",
       "      <td>17</td>\n",
       "      <td>2</td>\n",
       "      <td>civil court</td>\n",
       "      <td>0</td>\n",
       "      <td>977.0</td>\n",
       "      <td>6208.0</td>\n",
       "      <td>38</td>\n",
       "      <td>17353.0</td>\n",
       "      <td>1</td>\n",
       "      <td>1</td>\n",
       "      <td>515</td>\n",
       "    </tr>\n",
       "    <tr>\n",
       "      <th>5205139</th>\n",
       "      <td>17</td>\n",
       "      <td>4</td>\n",
       "      <td>civil court</td>\n",
       "      <td>0</td>\n",
       "      <td>977.0</td>\n",
       "      <td>6208.0</td>\n",
       "      <td>38</td>\n",
       "      <td>17353.0</td>\n",
       "      <td>1</td>\n",
       "      <td>0</td>\n",
       "      <td>73</td>\n",
       "    </tr>\n",
       "  </tbody>\n",
       "</table>\n",
       "<p>56260 rows × 11 columns</p>\n",
       "</div>"
      ],
      "text/plain": [
       "         state_code  court_no judge_position  female_defendant  type_name  \\\n",
       "869593           17         2    civil court                 0      929.0   \n",
       "869619           17         2    civil court                 0      929.0   \n",
       "869627           17         2    civil court                 0      929.0   \n",
       "869644           17         2    civil court                 0      929.0   \n",
       "870973           17         2    civil court                 0      929.0   \n",
       "...             ...       ...            ...               ...        ...   \n",
       "5198509          17         2    civil court                 0      977.0   \n",
       "5198517          17         2    civil court                 0      977.0   \n",
       "5198521          17         2    civil court                 0      977.0   \n",
       "5200341          17         2    civil court                 0      977.0   \n",
       "5205139          17         4    civil court                 0      977.0   \n",
       "\n",
       "         purpose_name  disp_name      act  criminal  female_judge  \\\n",
       "869593         4512.0         37  17353.0         1             1   \n",
       "869619         4512.0         37  17353.0         1             1   \n",
       "869627         4512.0         37  17353.0         1             1   \n",
       "869644         4512.0         37  17353.0         1             1   \n",
       "870973         4512.0         37  17353.0         1             1   \n",
       "...               ...        ...      ...       ...           ...   \n",
       "5198509        6208.0         38  17353.0         1             1   \n",
       "5198517        6208.0         38  17353.0         1             1   \n",
       "5198521        6208.0         38  17353.0         1             1   \n",
       "5200341        6208.0         38  17353.0         1             1   \n",
       "5205139        6208.0         38  17353.0         1             0   \n",
       "\n",
       "         duration_days  \n",
       "869593            1348  \n",
       "869619            1381  \n",
       "869627            1429  \n",
       "869644            1309  \n",
       "870973            1472  \n",
       "...                ...  \n",
       "5198509              3  \n",
       "5198517              0  \n",
       "5198521              5  \n",
       "5200341            515  \n",
       "5205139             73  \n",
       "\n",
       "[56260 rows x 11 columns]"
      ]
     },
     "execution_count": 88,
     "metadata": {},
     "output_type": "execute_result"
    }
   ],
   "source": [
    "pg_filt5 = (features_df5['disp_name'] == 37) | (features_df5['disp_name'] == 38)\n",
    "features_df5[pg_filt5]"
   ]
  },
  {
   "cell_type": "code",
   "execution_count": 98,
   "id": "402a2a37-63e5-4dba-8dd5-8b2ec705e02c",
   "metadata": {},
   "outputs": [],
   "source": [
    "keep_positions = features_df5['judge_position'].value_counts().index[:22]"
   ]
  },
  {
   "cell_type": "code",
   "execution_count": 99,
   "id": "1a44a13e-c504-4c98-b6a3-ea01e6e45bd0",
   "metadata": {},
   "outputs": [],
   "source": [
    "position_filt = features_df5['judge_position'].isin(keep_positions)\n",
    "features_df6 = features_df5[position_filt]"
   ]
  },
  {
   "cell_type": "code",
   "execution_count": 101,
   "id": "63264322-6e4e-4c85-b98c-7a4ca6d1a95f",
   "metadata": {},
   "outputs": [
    {
     "data": {
      "text/html": [
       "<div>\n",
       "<style scoped>\n",
       "    .dataframe tbody tr th:only-of-type {\n",
       "        vertical-align: middle;\n",
       "    }\n",
       "\n",
       "    .dataframe tbody tr th {\n",
       "        vertical-align: top;\n",
       "    }\n",
       "\n",
       "    .dataframe thead th {\n",
       "        text-align: right;\n",
       "    }\n",
       "</style>\n",
       "<table border=\"1\" class=\"dataframe\">\n",
       "  <thead>\n",
       "    <tr style=\"text-align: right;\">\n",
       "      <th></th>\n",
       "      <th>state_code</th>\n",
       "      <th>court_no</th>\n",
       "      <th>judge_position</th>\n",
       "      <th>female_defendant</th>\n",
       "      <th>type_name</th>\n",
       "      <th>purpose_name</th>\n",
       "      <th>disp_name</th>\n",
       "      <th>act</th>\n",
       "      <th>criminal</th>\n",
       "      <th>female_judge</th>\n",
       "      <th>duration_days</th>\n",
       "    </tr>\n",
       "  </thead>\n",
       "  <tbody>\n",
       "    <tr>\n",
       "      <th>692381</th>\n",
       "      <td>2</td>\n",
       "      <td>4</td>\n",
       "      <td>civil judge junior division</td>\n",
       "      <td>1</td>\n",
       "      <td>929.0</td>\n",
       "      <td>4512.0</td>\n",
       "      <td>4</td>\n",
       "      <td>17353.0</td>\n",
       "      <td>1</td>\n",
       "      <td>0</td>\n",
       "      <td>697</td>\n",
       "    </tr>\n",
       "    <tr>\n",
       "      <th>692382</th>\n",
       "      <td>2</td>\n",
       "      <td>4</td>\n",
       "      <td>civil judge junior division</td>\n",
       "      <td>0</td>\n",
       "      <td>929.0</td>\n",
       "      <td>4512.0</td>\n",
       "      <td>4</td>\n",
       "      <td>17353.0</td>\n",
       "      <td>1</td>\n",
       "      <td>0</td>\n",
       "      <td>676</td>\n",
       "    </tr>\n",
       "    <tr>\n",
       "      <th>692390</th>\n",
       "      <td>2</td>\n",
       "      <td>4</td>\n",
       "      <td>civil judge junior division</td>\n",
       "      <td>1</td>\n",
       "      <td>929.0</td>\n",
       "      <td>4512.0</td>\n",
       "      <td>19</td>\n",
       "      <td>17353.0</td>\n",
       "      <td>1</td>\n",
       "      <td>0</td>\n",
       "      <td>903</td>\n",
       "    </tr>\n",
       "    <tr>\n",
       "      <th>692405</th>\n",
       "      <td>2</td>\n",
       "      <td>6</td>\n",
       "      <td>civil judge junior division</td>\n",
       "      <td>1</td>\n",
       "      <td>929.0</td>\n",
       "      <td>4512.0</td>\n",
       "      <td>4</td>\n",
       "      <td>17353.0</td>\n",
       "      <td>1</td>\n",
       "      <td>1</td>\n",
       "      <td>528</td>\n",
       "    </tr>\n",
       "    <tr>\n",
       "      <th>692409</th>\n",
       "      <td>2</td>\n",
       "      <td>9</td>\n",
       "      <td>civil judge junior division</td>\n",
       "      <td>0</td>\n",
       "      <td>929.0</td>\n",
       "      <td>4512.0</td>\n",
       "      <td>4</td>\n",
       "      <td>17353.0</td>\n",
       "      <td>1</td>\n",
       "      <td>0</td>\n",
       "      <td>594</td>\n",
       "    </tr>\n",
       "    <tr>\n",
       "      <th>...</th>\n",
       "      <td>...</td>\n",
       "      <td>...</td>\n",
       "      <td>...</td>\n",
       "      <td>...</td>\n",
       "      <td>...</td>\n",
       "      <td>...</td>\n",
       "      <td>...</td>\n",
       "      <td>...</td>\n",
       "      <td>...</td>\n",
       "      <td>...</td>\n",
       "      <td>...</td>\n",
       "    </tr>\n",
       "    <tr>\n",
       "      <th>5330708</th>\n",
       "      <td>29</td>\n",
       "      <td>17</td>\n",
       "      <td>civil judge junior division</td>\n",
       "      <td>0</td>\n",
       "      <td>977.0</td>\n",
       "      <td>7698.0</td>\n",
       "      <td>2</td>\n",
       "      <td>17353.0</td>\n",
       "      <td>1</td>\n",
       "      <td>0</td>\n",
       "      <td>7</td>\n",
       "    </tr>\n",
       "    <tr>\n",
       "      <th>5330709</th>\n",
       "      <td>29</td>\n",
       "      <td>17</td>\n",
       "      <td>civil judge junior division</td>\n",
       "      <td>0</td>\n",
       "      <td>977.0</td>\n",
       "      <td>5053.0</td>\n",
       "      <td>4</td>\n",
       "      <td>17353.0</td>\n",
       "      <td>1</td>\n",
       "      <td>0</td>\n",
       "      <td>10</td>\n",
       "    </tr>\n",
       "    <tr>\n",
       "      <th>5330710</th>\n",
       "      <td>29</td>\n",
       "      <td>17</td>\n",
       "      <td>civil judge junior division</td>\n",
       "      <td>0</td>\n",
       "      <td>977.0</td>\n",
       "      <td>5053.0</td>\n",
       "      <td>4</td>\n",
       "      <td>17353.0</td>\n",
       "      <td>1</td>\n",
       "      <td>0</td>\n",
       "      <td>19</td>\n",
       "    </tr>\n",
       "    <tr>\n",
       "      <th>5330711</th>\n",
       "      <td>29</td>\n",
       "      <td>17</td>\n",
       "      <td>civil judge junior division</td>\n",
       "      <td>0</td>\n",
       "      <td>977.0</td>\n",
       "      <td>5053.0</td>\n",
       "      <td>4</td>\n",
       "      <td>17353.0</td>\n",
       "      <td>1</td>\n",
       "      <td>0</td>\n",
       "      <td>19</td>\n",
       "    </tr>\n",
       "    <tr>\n",
       "      <th>5330712</th>\n",
       "      <td>29</td>\n",
       "      <td>17</td>\n",
       "      <td>civil judge junior division</td>\n",
       "      <td>1</td>\n",
       "      <td>977.0</td>\n",
       "      <td>5053.0</td>\n",
       "      <td>4</td>\n",
       "      <td>17353.0</td>\n",
       "      <td>1</td>\n",
       "      <td>0</td>\n",
       "      <td>11</td>\n",
       "    </tr>\n",
       "  </tbody>\n",
       "</table>\n",
       "<p>260197 rows × 11 columns</p>\n",
       "</div>"
      ],
      "text/plain": [
       "         state_code  court_no               judge_position  female_defendant  \\\n",
       "692381            2         4  civil judge junior division                 1   \n",
       "692382            2         4  civil judge junior division                 0   \n",
       "692390            2         4  civil judge junior division                 1   \n",
       "692405            2         6  civil judge junior division                 1   \n",
       "692409            2         9  civil judge junior division                 0   \n",
       "...             ...       ...                          ...               ...   \n",
       "5330708          29        17  civil judge junior division                 0   \n",
       "5330709          29        17  civil judge junior division                 0   \n",
       "5330710          29        17  civil judge junior division                 0   \n",
       "5330711          29        17  civil judge junior division                 0   \n",
       "5330712          29        17  civil judge junior division                 1   \n",
       "\n",
       "         type_name  purpose_name  disp_name      act  criminal  female_judge  \\\n",
       "692381       929.0        4512.0          4  17353.0         1             0   \n",
       "692382       929.0        4512.0          4  17353.0         1             0   \n",
       "692390       929.0        4512.0         19  17353.0         1             0   \n",
       "692405       929.0        4512.0          4  17353.0         1             1   \n",
       "692409       929.0        4512.0          4  17353.0         1             0   \n",
       "...            ...           ...        ...      ...       ...           ...   \n",
       "5330708      977.0        7698.0          2  17353.0         1             0   \n",
       "5330709      977.0        5053.0          4  17353.0         1             0   \n",
       "5330710      977.0        5053.0          4  17353.0         1             0   \n",
       "5330711      977.0        5053.0          4  17353.0         1             0   \n",
       "5330712      977.0        5053.0          4  17353.0         1             0   \n",
       "\n",
       "         duration_days  \n",
       "692381             697  \n",
       "692382             676  \n",
       "692390             903  \n",
       "692405             528  \n",
       "692409             594  \n",
       "...                ...  \n",
       "5330708              7  \n",
       "5330709             10  \n",
       "5330710             19  \n",
       "5330711             19  \n",
       "5330712             11  \n",
       "\n",
       "[260197 rows x 11 columns]"
      ]
     },
     "execution_count": 101,
     "metadata": {},
     "output_type": "execute_result"
    }
   ],
   "source": [
    "features_df6"
   ]
  },
  {
   "cell_type": "code",
   "execution_count": 102,
   "id": "0424817b-f8e4-41e3-9ee7-6ebef175abef",
   "metadata": {},
   "outputs": [
    {
     "data": {
      "text/html": [
       "<div>\n",
       "<style scoped>\n",
       "    .dataframe tbody tr th:only-of-type {\n",
       "        vertical-align: middle;\n",
       "    }\n",
       "\n",
       "    .dataframe tbody tr th {\n",
       "        vertical-align: top;\n",
       "    }\n",
       "\n",
       "    .dataframe thead th {\n",
       "        text-align: right;\n",
       "    }\n",
       "</style>\n",
       "<table border=\"1\" class=\"dataframe\">\n",
       "  <thead>\n",
       "    <tr style=\"text-align: right;\">\n",
       "      <th></th>\n",
       "      <th>state_code</th>\n",
       "      <th>court_no</th>\n",
       "      <th>judge_position</th>\n",
       "      <th>female_defendant</th>\n",
       "      <th>type_name</th>\n",
       "      <th>purpose_name</th>\n",
       "      <th>disp_name</th>\n",
       "      <th>act</th>\n",
       "      <th>criminal</th>\n",
       "      <th>female_judge</th>\n",
       "      <th>duration_days</th>\n",
       "    </tr>\n",
       "  </thead>\n",
       "  <tbody>\n",
       "    <tr>\n",
       "      <th>869593</th>\n",
       "      <td>17</td>\n",
       "      <td>2</td>\n",
       "      <td>civil court</td>\n",
       "      <td>0</td>\n",
       "      <td>929.0</td>\n",
       "      <td>4512.0</td>\n",
       "      <td>37</td>\n",
       "      <td>17353.0</td>\n",
       "      <td>1</td>\n",
       "      <td>1</td>\n",
       "      <td>1348</td>\n",
       "    </tr>\n",
       "    <tr>\n",
       "      <th>869619</th>\n",
       "      <td>17</td>\n",
       "      <td>2</td>\n",
       "      <td>civil court</td>\n",
       "      <td>0</td>\n",
       "      <td>929.0</td>\n",
       "      <td>4512.0</td>\n",
       "      <td>37</td>\n",
       "      <td>17353.0</td>\n",
       "      <td>1</td>\n",
       "      <td>1</td>\n",
       "      <td>1381</td>\n",
       "    </tr>\n",
       "    <tr>\n",
       "      <th>869627</th>\n",
       "      <td>17</td>\n",
       "      <td>2</td>\n",
       "      <td>civil court</td>\n",
       "      <td>0</td>\n",
       "      <td>929.0</td>\n",
       "      <td>4512.0</td>\n",
       "      <td>37</td>\n",
       "      <td>17353.0</td>\n",
       "      <td>1</td>\n",
       "      <td>1</td>\n",
       "      <td>1429</td>\n",
       "    </tr>\n",
       "    <tr>\n",
       "      <th>869644</th>\n",
       "      <td>17</td>\n",
       "      <td>2</td>\n",
       "      <td>civil court</td>\n",
       "      <td>0</td>\n",
       "      <td>929.0</td>\n",
       "      <td>4512.0</td>\n",
       "      <td>37</td>\n",
       "      <td>17353.0</td>\n",
       "      <td>1</td>\n",
       "      <td>1</td>\n",
       "      <td>1309</td>\n",
       "    </tr>\n",
       "    <tr>\n",
       "      <th>870973</th>\n",
       "      <td>17</td>\n",
       "      <td>2</td>\n",
       "      <td>civil court</td>\n",
       "      <td>0</td>\n",
       "      <td>929.0</td>\n",
       "      <td>4512.0</td>\n",
       "      <td>37</td>\n",
       "      <td>17353.0</td>\n",
       "      <td>1</td>\n",
       "      <td>1</td>\n",
       "      <td>1472</td>\n",
       "    </tr>\n",
       "    <tr>\n",
       "      <th>...</th>\n",
       "      <td>...</td>\n",
       "      <td>...</td>\n",
       "      <td>...</td>\n",
       "      <td>...</td>\n",
       "      <td>...</td>\n",
       "      <td>...</td>\n",
       "      <td>...</td>\n",
       "      <td>...</td>\n",
       "      <td>...</td>\n",
       "      <td>...</td>\n",
       "      <td>...</td>\n",
       "    </tr>\n",
       "    <tr>\n",
       "      <th>5198509</th>\n",
       "      <td>17</td>\n",
       "      <td>2</td>\n",
       "      <td>civil court</td>\n",
       "      <td>0</td>\n",
       "      <td>977.0</td>\n",
       "      <td>6208.0</td>\n",
       "      <td>38</td>\n",
       "      <td>17353.0</td>\n",
       "      <td>1</td>\n",
       "      <td>1</td>\n",
       "      <td>3</td>\n",
       "    </tr>\n",
       "    <tr>\n",
       "      <th>5198517</th>\n",
       "      <td>17</td>\n",
       "      <td>2</td>\n",
       "      <td>civil court</td>\n",
       "      <td>0</td>\n",
       "      <td>977.0</td>\n",
       "      <td>6208.0</td>\n",
       "      <td>38</td>\n",
       "      <td>17353.0</td>\n",
       "      <td>1</td>\n",
       "      <td>1</td>\n",
       "      <td>0</td>\n",
       "    </tr>\n",
       "    <tr>\n",
       "      <th>5198521</th>\n",
       "      <td>17</td>\n",
       "      <td>2</td>\n",
       "      <td>civil court</td>\n",
       "      <td>0</td>\n",
       "      <td>977.0</td>\n",
       "      <td>6208.0</td>\n",
       "      <td>38</td>\n",
       "      <td>17353.0</td>\n",
       "      <td>1</td>\n",
       "      <td>1</td>\n",
       "      <td>5</td>\n",
       "    </tr>\n",
       "    <tr>\n",
       "      <th>5200341</th>\n",
       "      <td>17</td>\n",
       "      <td>2</td>\n",
       "      <td>civil court</td>\n",
       "      <td>0</td>\n",
       "      <td>977.0</td>\n",
       "      <td>6208.0</td>\n",
       "      <td>38</td>\n",
       "      <td>17353.0</td>\n",
       "      <td>1</td>\n",
       "      <td>1</td>\n",
       "      <td>515</td>\n",
       "    </tr>\n",
       "    <tr>\n",
       "      <th>5205139</th>\n",
       "      <td>17</td>\n",
       "      <td>4</td>\n",
       "      <td>civil court</td>\n",
       "      <td>0</td>\n",
       "      <td>977.0</td>\n",
       "      <td>6208.0</td>\n",
       "      <td>38</td>\n",
       "      <td>17353.0</td>\n",
       "      <td>1</td>\n",
       "      <td>0</td>\n",
       "      <td>73</td>\n",
       "    </tr>\n",
       "  </tbody>\n",
       "</table>\n",
       "<p>55586 rows × 11 columns</p>\n",
       "</div>"
      ],
      "text/plain": [
       "         state_code  court_no judge_position  female_defendant  type_name  \\\n",
       "869593           17         2    civil court                 0      929.0   \n",
       "869619           17         2    civil court                 0      929.0   \n",
       "869627           17         2    civil court                 0      929.0   \n",
       "869644           17         2    civil court                 0      929.0   \n",
       "870973           17         2    civil court                 0      929.0   \n",
       "...             ...       ...            ...               ...        ...   \n",
       "5198509          17         2    civil court                 0      977.0   \n",
       "5198517          17         2    civil court                 0      977.0   \n",
       "5198521          17         2    civil court                 0      977.0   \n",
       "5200341          17         2    civil court                 0      977.0   \n",
       "5205139          17         4    civil court                 0      977.0   \n",
       "\n",
       "         purpose_name  disp_name      act  criminal  female_judge  \\\n",
       "869593         4512.0         37  17353.0         1             1   \n",
       "869619         4512.0         37  17353.0         1             1   \n",
       "869627         4512.0         37  17353.0         1             1   \n",
       "869644         4512.0         37  17353.0         1             1   \n",
       "870973         4512.0         37  17353.0         1             1   \n",
       "...               ...        ...      ...       ...           ...   \n",
       "5198509        6208.0         38  17353.0         1             1   \n",
       "5198517        6208.0         38  17353.0         1             1   \n",
       "5198521        6208.0         38  17353.0         1             1   \n",
       "5200341        6208.0         38  17353.0         1             1   \n",
       "5205139        6208.0         38  17353.0         1             0   \n",
       "\n",
       "         duration_days  \n",
       "869593            1348  \n",
       "869619            1381  \n",
       "869627            1429  \n",
       "869644            1309  \n",
       "870973            1472  \n",
       "...                ...  \n",
       "5198509              3  \n",
       "5198517              0  \n",
       "5198521              5  \n",
       "5200341            515  \n",
       "5205139             73  \n",
       "\n",
       "[55586 rows x 11 columns]"
      ]
     },
     "execution_count": 102,
     "metadata": {},
     "output_type": "execute_result"
    }
   ],
   "source": [
    "pg_filt6 = (features_df6['disp_name'] == 37) | (features_df6['disp_name'] == 38)\n",
    "features_df6[pg_filt6]"
   ]
  },
  {
   "cell_type": "code",
   "execution_count": 103,
   "id": "739d362b-4211-4ef1-b0ee-b6aee6ac9baa",
   "metadata": {},
   "outputs": [],
   "source": [
    "features_df6.to_csv('../data/_baked/ml/plead_guilty_features.csv', index=False)"
   ]
  },
  {
   "cell_type": "code",
   "execution_count": 109,
   "id": "2ca31e7a-ecaf-4b4e-9315-d03c195f28eb",
   "metadata": {},
   "outputs": [],
   "source": [
    "y = features_df6['disp_name'].transform(lambda x: 1 if x == 37 or x == 38 else 0)"
   ]
  },
  {
   "cell_type": "code",
   "execution_count": 111,
   "id": "dd9b925f-a229-4695-bc82-da5bcc34f68e",
   "metadata": {},
   "outputs": [
    {
     "name": "stderr",
     "output_type": "stream",
     "text": [
      "C:\\Users\\vnnm\\AppData\\Local\\Temp\\ipykernel_10396\\3136764679.py:1: SettingWithCopyWarning: \n",
      "A value is trying to be set on a copy of a slice from a DataFrame.\n",
      "Try using .loc[row_indexer,col_indexer] = value instead\n",
      "\n",
      "See the caveats in the documentation: https://pandas.pydata.org/pandas-docs/stable/user_guide/indexing.html#returning-a-view-versus-a-copy\n",
      "  features_df6['y'] = y\n"
     ]
    }
   ],
   "source": [
    "features_df6['y'] = y"
   ]
  },
  {
   "cell_type": "code",
   "execution_count": 114,
   "id": "671e2325-7095-4c79-aeef-7051558fd254",
   "metadata": {},
   "outputs": [
    {
     "name": "stderr",
     "output_type": "stream",
     "text": [
      "C:\\Users\\vnnm\\AppData\\Local\\Temp\\ipykernel_10396\\62850052.py:1: SettingWithCopyWarning: \n",
      "A value is trying to be set on a copy of a slice from a DataFrame\n",
      "\n",
      "See the caveats in the documentation: https://pandas.pydata.org/pandas-docs/stable/user_guide/indexing.html#returning-a-view-versus-a-copy\n",
      "  features_df6.drop(['disp_name'], axis=1, inplace=True)\n"
     ]
    }
   ],
   "source": [
    "features_df6.drop(['disp_name'], axis=1, inplace=True)"
   ]
  },
  {
   "cell_type": "code",
   "execution_count": 116,
   "id": "817721e7-b861-4640-999c-94e57d833e28",
   "metadata": {},
   "outputs": [],
   "source": [
    "features_df6.to_csv('../data/_baked/ml/plead_guilty_features.csv', index=False)"
   ]
  },
  {
   "cell_type": "code",
   "execution_count": 3,
   "id": "20e83c23-3b58-4eca-b852-d83fef750204",
   "metadata": {},
   "outputs": [],
   "source": [
    "dataset_df = pd.read_csv('../data/_baked/ml/plead_guilty_features.csv')"
   ]
  },
  {
   "cell_type": "markdown",
   "id": "f59f6fea-00ce-4bee-b3bc-9b544656611a",
   "metadata": {},
   "source": [
    "### Encoding\n",
    "We one hot encode columns `purpose_name`, `type_name`, `state_code`, `court_no`, `act`. We cannot ordinal encode these values as they have no relevant ordering.\n",
    "\n",
    "We face the problem of quantity, if we were to brute force one hot encode these columns we would have too many columns, what we could do is choose values of `type_name`, `purpose_name`, `act` that make up 90% to 95% of the data. This allows us to remove many scarcely used values."
   ]
  },
  {
   "cell_type": "code",
   "execution_count": 4,
   "id": "eda139ff-571e-45a5-9c41-9a0b26dfe433",
   "metadata": {},
   "outputs": [],
   "source": [
    "from sklearn.preprocessing import OneHotEncoder"
   ]
  },
  {
   "cell_type": "code",
   "execution_count": 5,
   "id": "62989347-878b-4a6b-a24a-9dc6af93e329",
   "metadata": {},
   "outputs": [],
   "source": [
    "categorical_columns = ['state_code', 'court_no', 'judge_position', 'type_name', 'purpose_name', 'act']"
   ]
  },
  {
   "cell_type": "code",
   "execution_count": 6,
   "id": "1cb6f219-b29f-4eb5-b737-9d236e036a1f",
   "metadata": {},
   "outputs": [],
   "source": [
    "OH_encoder = OneHotEncoder(handle_unknown='ignore', sparse_output=False)"
   ]
  },
  {
   "cell_type": "code",
   "execution_count": 7,
   "id": "48d37b25-2a1f-4fca-875f-8581682ff074",
   "metadata": {},
   "outputs": [],
   "source": [
    "categorical_cols_df = dataset_df[categorical_columns]\n",
    "numerical_df = dataset_df.drop(categorical_columns, axis=1)"
   ]
  },
  {
   "cell_type": "code",
   "execution_count": 8,
   "id": "12530d95-304a-40fe-a1a9-570d81733e14",
   "metadata": {},
   "outputs": [],
   "source": [
    "OH_categorical_cols_df = pd.DataFrame(OH_encoder.fit_transform(categorical_cols_df))"
   ]
  },
  {
   "cell_type": "code",
   "execution_count": 9,
   "id": "f70a71a7-fea8-4914-94d6-ad7db2c1ce8b",
   "metadata": {},
   "outputs": [],
   "source": [
    "OH_categorical_cols_df.index = categorical_cols_df.index"
   ]
  },
  {
   "cell_type": "code",
   "execution_count": 10,
   "id": "875693f4-3ab5-4d22-82e1-d682f6106aed",
   "metadata": {},
   "outputs": [],
   "source": [
    "encoded_merged_df = pd.concat([OH_categorical_cols_df, numerical_df], axis=1)"
   ]
  },
  {
   "cell_type": "code",
   "execution_count": 11,
   "id": "00bf22c9-6966-4484-8e3f-b9fbad3cccb8",
   "metadata": {},
   "outputs": [],
   "source": [
    "# we normalize values so that all values lie in (-1, 1)\n",
    "normalized_df = (encoded_merged_df-encoded_merged_df.min())/(encoded_merged_df.max()-encoded_merged_df.min())"
   ]
  },
  {
   "cell_type": "code",
   "execution_count": 12,
   "id": "aa55a2e6-5637-4246-914e-d60f54cafcc1",
   "metadata": {},
   "outputs": [
    {
     "data": {
      "text/html": [
       "<div>\n",
       "<style scoped>\n",
       "    .dataframe tbody tr th:only-of-type {\n",
       "        vertical-align: middle;\n",
       "    }\n",
       "\n",
       "    .dataframe tbody tr th {\n",
       "        vertical-align: top;\n",
       "    }\n",
       "\n",
       "    .dataframe thead th {\n",
       "        text-align: right;\n",
       "    }\n",
       "</style>\n",
       "<table border=\"1\" class=\"dataframe\">\n",
       "  <thead>\n",
       "    <tr style=\"text-align: right;\">\n",
       "      <th></th>\n",
       "      <th>0</th>\n",
       "      <th>1</th>\n",
       "      <th>2</th>\n",
       "      <th>3</th>\n",
       "      <th>4</th>\n",
       "      <th>5</th>\n",
       "      <th>6</th>\n",
       "      <th>7</th>\n",
       "      <th>8</th>\n",
       "      <th>9</th>\n",
       "      <th>...</th>\n",
       "      <th>118</th>\n",
       "      <th>119</th>\n",
       "      <th>120</th>\n",
       "      <th>121</th>\n",
       "      <th>122</th>\n",
       "      <th>female_defendant</th>\n",
       "      <th>criminal</th>\n",
       "      <th>female_judge</th>\n",
       "      <th>duration_days</th>\n",
       "      <th>y</th>\n",
       "    </tr>\n",
       "  </thead>\n",
       "  <tbody>\n",
       "    <tr>\n",
       "      <th>0</th>\n",
       "      <td>0.0</td>\n",
       "      <td>1.0</td>\n",
       "      <td>0.0</td>\n",
       "      <td>0.0</td>\n",
       "      <td>0.0</td>\n",
       "      <td>0.0</td>\n",
       "      <td>0.0</td>\n",
       "      <td>0.0</td>\n",
       "      <td>0.0</td>\n",
       "      <td>0.0</td>\n",
       "      <td>...</td>\n",
       "      <td>0.0</td>\n",
       "      <td>0.0</td>\n",
       "      <td>1.0</td>\n",
       "      <td>0.0</td>\n",
       "      <td>0.0</td>\n",
       "      <td>1.0</td>\n",
       "      <td>1.0</td>\n",
       "      <td>0.0</td>\n",
       "      <td>0.284490</td>\n",
       "      <td>0.0</td>\n",
       "    </tr>\n",
       "    <tr>\n",
       "      <th>1</th>\n",
       "      <td>0.0</td>\n",
       "      <td>1.0</td>\n",
       "      <td>0.0</td>\n",
       "      <td>0.0</td>\n",
       "      <td>0.0</td>\n",
       "      <td>0.0</td>\n",
       "      <td>0.0</td>\n",
       "      <td>0.0</td>\n",
       "      <td>0.0</td>\n",
       "      <td>0.0</td>\n",
       "      <td>...</td>\n",
       "      <td>0.0</td>\n",
       "      <td>0.0</td>\n",
       "      <td>1.0</td>\n",
       "      <td>0.0</td>\n",
       "      <td>0.0</td>\n",
       "      <td>0.0</td>\n",
       "      <td>1.0</td>\n",
       "      <td>0.0</td>\n",
       "      <td>0.275918</td>\n",
       "      <td>0.0</td>\n",
       "    </tr>\n",
       "    <tr>\n",
       "      <th>2</th>\n",
       "      <td>0.0</td>\n",
       "      <td>1.0</td>\n",
       "      <td>0.0</td>\n",
       "      <td>0.0</td>\n",
       "      <td>0.0</td>\n",
       "      <td>0.0</td>\n",
       "      <td>0.0</td>\n",
       "      <td>0.0</td>\n",
       "      <td>0.0</td>\n",
       "      <td>0.0</td>\n",
       "      <td>...</td>\n",
       "      <td>0.0</td>\n",
       "      <td>0.0</td>\n",
       "      <td>1.0</td>\n",
       "      <td>0.0</td>\n",
       "      <td>0.0</td>\n",
       "      <td>1.0</td>\n",
       "      <td>1.0</td>\n",
       "      <td>0.0</td>\n",
       "      <td>0.368571</td>\n",
       "      <td>0.0</td>\n",
       "    </tr>\n",
       "    <tr>\n",
       "      <th>3</th>\n",
       "      <td>0.0</td>\n",
       "      <td>1.0</td>\n",
       "      <td>0.0</td>\n",
       "      <td>0.0</td>\n",
       "      <td>0.0</td>\n",
       "      <td>0.0</td>\n",
       "      <td>0.0</td>\n",
       "      <td>0.0</td>\n",
       "      <td>0.0</td>\n",
       "      <td>0.0</td>\n",
       "      <td>...</td>\n",
       "      <td>0.0</td>\n",
       "      <td>0.0</td>\n",
       "      <td>1.0</td>\n",
       "      <td>0.0</td>\n",
       "      <td>0.0</td>\n",
       "      <td>1.0</td>\n",
       "      <td>1.0</td>\n",
       "      <td>1.0</td>\n",
       "      <td>0.215510</td>\n",
       "      <td>0.0</td>\n",
       "    </tr>\n",
       "    <tr>\n",
       "      <th>4</th>\n",
       "      <td>0.0</td>\n",
       "      <td>1.0</td>\n",
       "      <td>0.0</td>\n",
       "      <td>0.0</td>\n",
       "      <td>0.0</td>\n",
       "      <td>0.0</td>\n",
       "      <td>0.0</td>\n",
       "      <td>0.0</td>\n",
       "      <td>0.0</td>\n",
       "      <td>0.0</td>\n",
       "      <td>...</td>\n",
       "      <td>0.0</td>\n",
       "      <td>0.0</td>\n",
       "      <td>1.0</td>\n",
       "      <td>0.0</td>\n",
       "      <td>0.0</td>\n",
       "      <td>0.0</td>\n",
       "      <td>1.0</td>\n",
       "      <td>0.0</td>\n",
       "      <td>0.242449</td>\n",
       "      <td>0.0</td>\n",
       "    </tr>\n",
       "    <tr>\n",
       "      <th>...</th>\n",
       "      <td>...</td>\n",
       "      <td>...</td>\n",
       "      <td>...</td>\n",
       "      <td>...</td>\n",
       "      <td>...</td>\n",
       "      <td>...</td>\n",
       "      <td>...</td>\n",
       "      <td>...</td>\n",
       "      <td>...</td>\n",
       "      <td>...</td>\n",
       "      <td>...</td>\n",
       "      <td>...</td>\n",
       "      <td>...</td>\n",
       "      <td>...</td>\n",
       "      <td>...</td>\n",
       "      <td>...</td>\n",
       "      <td>...</td>\n",
       "      <td>...</td>\n",
       "      <td>...</td>\n",
       "      <td>...</td>\n",
       "      <td>...</td>\n",
       "    </tr>\n",
       "    <tr>\n",
       "      <th>260192</th>\n",
       "      <td>0.0</td>\n",
       "      <td>0.0</td>\n",
       "      <td>0.0</td>\n",
       "      <td>0.0</td>\n",
       "      <td>0.0</td>\n",
       "      <td>0.0</td>\n",
       "      <td>0.0</td>\n",
       "      <td>0.0</td>\n",
       "      <td>0.0</td>\n",
       "      <td>0.0</td>\n",
       "      <td>...</td>\n",
       "      <td>0.0</td>\n",
       "      <td>0.0</td>\n",
       "      <td>1.0</td>\n",
       "      <td>0.0</td>\n",
       "      <td>0.0</td>\n",
       "      <td>0.0</td>\n",
       "      <td>1.0</td>\n",
       "      <td>0.0</td>\n",
       "      <td>0.002857</td>\n",
       "      <td>0.0</td>\n",
       "    </tr>\n",
       "    <tr>\n",
       "      <th>260193</th>\n",
       "      <td>0.0</td>\n",
       "      <td>0.0</td>\n",
       "      <td>0.0</td>\n",
       "      <td>0.0</td>\n",
       "      <td>0.0</td>\n",
       "      <td>0.0</td>\n",
       "      <td>0.0</td>\n",
       "      <td>0.0</td>\n",
       "      <td>0.0</td>\n",
       "      <td>0.0</td>\n",
       "      <td>...</td>\n",
       "      <td>0.0</td>\n",
       "      <td>0.0</td>\n",
       "      <td>1.0</td>\n",
       "      <td>0.0</td>\n",
       "      <td>0.0</td>\n",
       "      <td>0.0</td>\n",
       "      <td>1.0</td>\n",
       "      <td>0.0</td>\n",
       "      <td>0.004082</td>\n",
       "      <td>0.0</td>\n",
       "    </tr>\n",
       "    <tr>\n",
       "      <th>260194</th>\n",
       "      <td>0.0</td>\n",
       "      <td>0.0</td>\n",
       "      <td>0.0</td>\n",
       "      <td>0.0</td>\n",
       "      <td>0.0</td>\n",
       "      <td>0.0</td>\n",
       "      <td>0.0</td>\n",
       "      <td>0.0</td>\n",
       "      <td>0.0</td>\n",
       "      <td>0.0</td>\n",
       "      <td>...</td>\n",
       "      <td>0.0</td>\n",
       "      <td>0.0</td>\n",
       "      <td>1.0</td>\n",
       "      <td>0.0</td>\n",
       "      <td>0.0</td>\n",
       "      <td>0.0</td>\n",
       "      <td>1.0</td>\n",
       "      <td>0.0</td>\n",
       "      <td>0.007755</td>\n",
       "      <td>0.0</td>\n",
       "    </tr>\n",
       "    <tr>\n",
       "      <th>260195</th>\n",
       "      <td>0.0</td>\n",
       "      <td>0.0</td>\n",
       "      <td>0.0</td>\n",
       "      <td>0.0</td>\n",
       "      <td>0.0</td>\n",
       "      <td>0.0</td>\n",
       "      <td>0.0</td>\n",
       "      <td>0.0</td>\n",
       "      <td>0.0</td>\n",
       "      <td>0.0</td>\n",
       "      <td>...</td>\n",
       "      <td>0.0</td>\n",
       "      <td>0.0</td>\n",
       "      <td>1.0</td>\n",
       "      <td>0.0</td>\n",
       "      <td>0.0</td>\n",
       "      <td>0.0</td>\n",
       "      <td>1.0</td>\n",
       "      <td>0.0</td>\n",
       "      <td>0.007755</td>\n",
       "      <td>0.0</td>\n",
       "    </tr>\n",
       "    <tr>\n",
       "      <th>260196</th>\n",
       "      <td>0.0</td>\n",
       "      <td>0.0</td>\n",
       "      <td>0.0</td>\n",
       "      <td>0.0</td>\n",
       "      <td>0.0</td>\n",
       "      <td>0.0</td>\n",
       "      <td>0.0</td>\n",
       "      <td>0.0</td>\n",
       "      <td>0.0</td>\n",
       "      <td>0.0</td>\n",
       "      <td>...</td>\n",
       "      <td>0.0</td>\n",
       "      <td>0.0</td>\n",
       "      <td>1.0</td>\n",
       "      <td>0.0</td>\n",
       "      <td>0.0</td>\n",
       "      <td>1.0</td>\n",
       "      <td>1.0</td>\n",
       "      <td>0.0</td>\n",
       "      <td>0.004490</td>\n",
       "      <td>0.0</td>\n",
       "    </tr>\n",
       "  </tbody>\n",
       "</table>\n",
       "<p>260197 rows × 128 columns</p>\n",
       "</div>"
      ],
      "text/plain": [
       "          0    1    2    3    4    5    6    7    8    9  ...  118  119  120  \\\n",
       "0       0.0  1.0  0.0  0.0  0.0  0.0  0.0  0.0  0.0  0.0  ...  0.0  0.0  1.0   \n",
       "1       0.0  1.0  0.0  0.0  0.0  0.0  0.0  0.0  0.0  0.0  ...  0.0  0.0  1.0   \n",
       "2       0.0  1.0  0.0  0.0  0.0  0.0  0.0  0.0  0.0  0.0  ...  0.0  0.0  1.0   \n",
       "3       0.0  1.0  0.0  0.0  0.0  0.0  0.0  0.0  0.0  0.0  ...  0.0  0.0  1.0   \n",
       "4       0.0  1.0  0.0  0.0  0.0  0.0  0.0  0.0  0.0  0.0  ...  0.0  0.0  1.0   \n",
       "...     ...  ...  ...  ...  ...  ...  ...  ...  ...  ...  ...  ...  ...  ...   \n",
       "260192  0.0  0.0  0.0  0.0  0.0  0.0  0.0  0.0  0.0  0.0  ...  0.0  0.0  1.0   \n",
       "260193  0.0  0.0  0.0  0.0  0.0  0.0  0.0  0.0  0.0  0.0  ...  0.0  0.0  1.0   \n",
       "260194  0.0  0.0  0.0  0.0  0.0  0.0  0.0  0.0  0.0  0.0  ...  0.0  0.0  1.0   \n",
       "260195  0.0  0.0  0.0  0.0  0.0  0.0  0.0  0.0  0.0  0.0  ...  0.0  0.0  1.0   \n",
       "260196  0.0  0.0  0.0  0.0  0.0  0.0  0.0  0.0  0.0  0.0  ...  0.0  0.0  1.0   \n",
       "\n",
       "        121  122  female_defendant  criminal  female_judge  duration_days    y  \n",
       "0       0.0  0.0               1.0       1.0           0.0       0.284490  0.0  \n",
       "1       0.0  0.0               0.0       1.0           0.0       0.275918  0.0  \n",
       "2       0.0  0.0               1.0       1.0           0.0       0.368571  0.0  \n",
       "3       0.0  0.0               1.0       1.0           1.0       0.215510  0.0  \n",
       "4       0.0  0.0               0.0       1.0           0.0       0.242449  0.0  \n",
       "...     ...  ...               ...       ...           ...            ...  ...  \n",
       "260192  0.0  0.0               0.0       1.0           0.0       0.002857  0.0  \n",
       "260193  0.0  0.0               0.0       1.0           0.0       0.004082  0.0  \n",
       "260194  0.0  0.0               0.0       1.0           0.0       0.007755  0.0  \n",
       "260195  0.0  0.0               0.0       1.0           0.0       0.007755  0.0  \n",
       "260196  0.0  0.0               1.0       1.0           0.0       0.004490  0.0  \n",
       "\n",
       "[260197 rows x 128 columns]"
      ]
     },
     "execution_count": 12,
     "metadata": {},
     "output_type": "execute_result"
    }
   ],
   "source": [
    "normalized_df"
   ]
  },
  {
   "cell_type": "markdown",
   "id": "223045c2-49b4-4adf-9aa4-55b17833138d",
   "metadata": {},
   "source": [
    "### Split\n",
    "We split the dataset into a test and train dataset, since we only have about 50,000 plead guilty cases, we can take 70% of them to train the model and 30% to test."
   ]
  },
  {
   "cell_type": "code",
   "execution_count": 13,
   "id": "8d89d39e-ade8-4337-9be8-ed96eac6fa8a",
   "metadata": {},
   "outputs": [],
   "source": [
    "pg_filt_final = (normalized_df['y'] == 1)\n",
    "not_pg_filt_final = (normalized_df['y'] == 0)\n",
    "y_1_df = normalized_df[pg_filt_final]\n",
    "y_0_df = normalized_df[not_pg_filt_final]"
   ]
  },
  {
   "cell_type": "code",
   "execution_count": 14,
   "id": "e30730e2-5ed5-4c03-a356-c683752c94e8",
   "metadata": {},
   "outputs": [],
   "source": [
    "split_index_1 = int(0.7 * len(y_1_df))\n",
    "split_index_0 = int(0.7 * len(y_0_df))"
   ]
  },
  {
   "cell_type": "code",
   "execution_count": 15,
   "id": "a9475099-149e-44d2-9786-24fd3c7a061c",
   "metadata": {},
   "outputs": [],
   "source": [
    "X_train = pd.concat([y_0_df[:split_index_0], y_1_df[:split_index_1]])\n",
    "X_test = pd.concat([y_0_df[split_index_0:], y_1_df[split_index_1:]])"
   ]
  },
  {
   "cell_type": "code",
   "execution_count": 16,
   "id": "785beb9d-c770-401a-9a13-1855371274b1",
   "metadata": {},
   "outputs": [],
   "source": [
    "y_train = X_train['y']\n",
    "y_test = X_test['y']"
   ]
  },
  {
   "cell_type": "code",
   "execution_count": 17,
   "id": "419d679b-03d0-4444-883b-eeb330192802",
   "metadata": {},
   "outputs": [],
   "source": [
    "X_train.drop(['y'], axis=1, inplace=True)\n",
    "X_test.drop(['y'], axis=1, inplace=True)"
   ]
  },
  {
   "cell_type": "code",
   "execution_count": 18,
   "id": "6d9eec33-46a5-42c1-9374-52dd2f0ab022",
   "metadata": {},
   "outputs": [],
   "source": [
    "X_train = X_train.sample(frac=1)\n",
    "y_train = y_train.sample(frac=1)\n",
    "X_test = X_test.sample(frac=1)\n",
    "y_test = y_test.sample(frac=1)"
   ]
  },
  {
   "cell_type": "markdown",
   "id": "55568c46-1ff3-4888-8be5-80877fb7b7d5",
   "metadata": {},
   "source": [
    "## Testing Out Models"
   ]
  },
  {
   "cell_type": "markdown",
   "id": "242b7852-6b8d-4ac6-8389-ecf0c038d44a",
   "metadata": {},
   "source": [
    "### SGDClassifier"
   ]
  },
  {
   "cell_type": "code",
   "execution_count": 164,
   "id": "a06e542a-7fb0-4a88-b1cd-f4ebcaeac771",
   "metadata": {},
   "outputs": [],
   "source": [
    "from sklearn.linear_model import SGDClassifier"
   ]
  },
  {
   "cell_type": "code",
   "execution_count": 175,
   "id": "c19b2864-804a-479e-9c3b-b503b205786a",
   "metadata": {},
   "outputs": [],
   "source": [
    "sgd_clf = SGDClassifier(random_state=42)"
   ]
  },
  {
   "cell_type": "code",
   "execution_count": 176,
   "id": "559f15e8-278a-41eb-b6f9-0041a79421be",
   "metadata": {},
   "outputs": [
    {
     "data": {
      "text/html": [
       "<style>#sk-container-id-2 {color: black;background-color: white;}#sk-container-id-2 pre{padding: 0;}#sk-container-id-2 div.sk-toggleable {background-color: white;}#sk-container-id-2 label.sk-toggleable__label {cursor: pointer;display: block;width: 100%;margin-bottom: 0;padding: 0.3em;box-sizing: border-box;text-align: center;}#sk-container-id-2 label.sk-toggleable__label-arrow:before {content: \"▸\";float: left;margin-right: 0.25em;color: #696969;}#sk-container-id-2 label.sk-toggleable__label-arrow:hover:before {color: black;}#sk-container-id-2 div.sk-estimator:hover label.sk-toggleable__label-arrow:before {color: black;}#sk-container-id-2 div.sk-toggleable__content {max-height: 0;max-width: 0;overflow: hidden;text-align: left;background-color: #f0f8ff;}#sk-container-id-2 div.sk-toggleable__content pre {margin: 0.2em;color: black;border-radius: 0.25em;background-color: #f0f8ff;}#sk-container-id-2 input.sk-toggleable__control:checked~div.sk-toggleable__content {max-height: 200px;max-width: 100%;overflow: auto;}#sk-container-id-2 input.sk-toggleable__control:checked~label.sk-toggleable__label-arrow:before {content: \"▾\";}#sk-container-id-2 div.sk-estimator input.sk-toggleable__control:checked~label.sk-toggleable__label {background-color: #d4ebff;}#sk-container-id-2 div.sk-label input.sk-toggleable__control:checked~label.sk-toggleable__label {background-color: #d4ebff;}#sk-container-id-2 input.sk-hidden--visually {border: 0;clip: rect(1px 1px 1px 1px);clip: rect(1px, 1px, 1px, 1px);height: 1px;margin: -1px;overflow: hidden;padding: 0;position: absolute;width: 1px;}#sk-container-id-2 div.sk-estimator {font-family: monospace;background-color: #f0f8ff;border: 1px dotted black;border-radius: 0.25em;box-sizing: border-box;margin-bottom: 0.5em;}#sk-container-id-2 div.sk-estimator:hover {background-color: #d4ebff;}#sk-container-id-2 div.sk-parallel-item::after {content: \"\";width: 100%;border-bottom: 1px solid gray;flex-grow: 1;}#sk-container-id-2 div.sk-label:hover label.sk-toggleable__label {background-color: #d4ebff;}#sk-container-id-2 div.sk-serial::before {content: \"\";position: absolute;border-left: 1px solid gray;box-sizing: border-box;top: 0;bottom: 0;left: 50%;z-index: 0;}#sk-container-id-2 div.sk-serial {display: flex;flex-direction: column;align-items: center;background-color: white;padding-right: 0.2em;padding-left: 0.2em;position: relative;}#sk-container-id-2 div.sk-item {position: relative;z-index: 1;}#sk-container-id-2 div.sk-parallel {display: flex;align-items: stretch;justify-content: center;background-color: white;position: relative;}#sk-container-id-2 div.sk-item::before, #sk-container-id-2 div.sk-parallel-item::before {content: \"\";position: absolute;border-left: 1px solid gray;box-sizing: border-box;top: 0;bottom: 0;left: 50%;z-index: -1;}#sk-container-id-2 div.sk-parallel-item {display: flex;flex-direction: column;z-index: 1;position: relative;background-color: white;}#sk-container-id-2 div.sk-parallel-item:first-child::after {align-self: flex-end;width: 50%;}#sk-container-id-2 div.sk-parallel-item:last-child::after {align-self: flex-start;width: 50%;}#sk-container-id-2 div.sk-parallel-item:only-child::after {width: 0;}#sk-container-id-2 div.sk-dashed-wrapped {border: 1px dashed gray;margin: 0 0.4em 0.5em 0.4em;box-sizing: border-box;padding-bottom: 0.4em;background-color: white;}#sk-container-id-2 div.sk-label label {font-family: monospace;font-weight: bold;display: inline-block;line-height: 1.2em;}#sk-container-id-2 div.sk-label-container {text-align: center;}#sk-container-id-2 div.sk-container {/* jupyter's `normalize.less` sets `[hidden] { display: none; }` but bootstrap.min.css set `[hidden] { display: none !important; }` so we also need the `!important` here to be able to override the default hidden behavior on the sphinx rendered scikit-learn.org. See: https://github.com/scikit-learn/scikit-learn/issues/21755 */display: inline-block !important;position: relative;}#sk-container-id-2 div.sk-text-repr-fallback {display: none;}</style><div id=\"sk-container-id-2\" class=\"sk-top-container\"><div class=\"sk-text-repr-fallback\"><pre>SGDClassifier(random_state=42)</pre><b>In a Jupyter environment, please rerun this cell to show the HTML representation or trust the notebook. <br />On GitHub, the HTML representation is unable to render, please try loading this page with nbviewer.org.</b></div><div class=\"sk-container\" hidden><div class=\"sk-item\"><div class=\"sk-estimator sk-toggleable\"><input class=\"sk-toggleable__control sk-hidden--visually\" id=\"sk-estimator-id-2\" type=\"checkbox\" checked><label for=\"sk-estimator-id-2\" class=\"sk-toggleable__label sk-toggleable__label-arrow\">SGDClassifier</label><div class=\"sk-toggleable__content\"><pre>SGDClassifier(random_state=42)</pre></div></div></div></div></div>"
      ],
      "text/plain": [
       "SGDClassifier(random_state=42)"
      ]
     },
     "execution_count": 176,
     "metadata": {},
     "output_type": "execute_result"
    }
   ],
   "source": [
    "sgd_clf.fit(X_train.values, y_train.values)"
   ]
  },
  {
   "cell_type": "code",
   "execution_count": 26,
   "id": "159d6196-c0ba-42ad-8f43-b95d4d54ac06",
   "metadata": {},
   "outputs": [],
   "source": [
    "from sklearn.model_selection import cross_val_score"
   ]
  },
  {
   "cell_type": "code",
   "execution_count": 178,
   "id": "fc56a14a-c340-4c4e-9218-2210dbecce99",
   "metadata": {},
   "outputs": [
    {
     "data": {
      "text/plain": [
       "array([0.78637195, 0.78636843, 0.78636843])"
      ]
     },
     "execution_count": 178,
     "metadata": {},
     "output_type": "execute_result"
    }
   ],
   "source": [
    "cross_val_score(sgd_clf, X_train.values, y_train.values, cv=3, scoring=\"accuracy\")"
   ]
  },
  {
   "cell_type": "code",
   "execution_count": 182,
   "id": "20905fc4-8774-454d-84a6-bdb9fabc24c6",
   "metadata": {},
   "outputs": [
    {
     "data": {
      "text/plain": [
       "array([0.78639508, 0.78635665, 0.78635665])"
      ]
     },
     "execution_count": 182,
     "metadata": {},
     "output_type": "execute_result"
    }
   ],
   "source": [
    "cross_val_score(sgd_clf, X_test.values, y_test.values, cv=3, scoring=\"accuracy\")"
   ]
  },
  {
   "cell_type": "code",
   "execution_count": 183,
   "id": "23a7e313-ff7a-4c28-ac9e-779fc315bf88",
   "metadata": {},
   "outputs": [
    {
     "data": {
      "text/plain": [
       "3465124    1.0\n",
       "3519156    1.0\n",
       "4503165    1.0\n",
       "4435835    1.0\n",
       "4514250    1.0\n",
       "          ... \n",
       "2554704    1.0\n",
       "4449781    1.0\n",
       "2607865    1.0\n",
       "2311502    1.0\n",
       "2324547    1.0\n",
       "Name: y, Length: 38910, dtype: float64"
      ]
     },
     "execution_count": 183,
     "metadata": {},
     "output_type": "execute_result"
    }
   ],
   "source": [
    "y_train[y_train == 1]"
   ]
  },
  {
   "cell_type": "code",
   "execution_count": 184,
   "id": "071bfbc0-e096-4358-acdc-411eac57a6eb",
   "metadata": {},
   "outputs": [
    {
     "data": {
      "text/plain": [
       "3223847    0.0\n",
       "1701177    0.0\n",
       "3430803    0.0\n",
       "2331680    0.0\n",
       "3523734    0.0\n",
       "          ... \n",
       "2357173    0.0\n",
       "2582815    0.0\n",
       "3519177    0.0\n",
       "3171620    0.0\n",
       "2670341    0.0\n",
       "Name: y, Length: 143227, dtype: float64"
      ]
     },
     "execution_count": 184,
     "metadata": {},
     "output_type": "execute_result"
    }
   ],
   "source": [
    "y_train[y_train == 0]"
   ]
  },
  {
   "cell_type": "code",
   "execution_count": 187,
   "id": "4e66ad6a-a091-491a-b0ac-50b78b182375",
   "metadata": {},
   "outputs": [],
   "source": [
    "from sklearn.metrics import classification_report"
   ]
  },
  {
   "cell_type": "code",
   "execution_count": 193,
   "id": "10b824c0-b8f2-4403-8294-5253c50e9b0a",
   "metadata": {},
   "outputs": [],
   "source": [
    "y_test_pred = sgd_clf.predict(X_test.values)"
   ]
  },
  {
   "cell_type": "code",
   "execution_count": 201,
   "id": "6f115850-6b4c-41c6-b77b-9b66b427745c",
   "metadata": {},
   "outputs": [
    {
     "name": "stdout",
     "output_type": "stream",
     "text": [
      "              precision    recall  f1-score   support\n",
      "\n",
      "         0.0       0.79      1.00      0.88     61384\n",
      "         1.0       0.00      0.00      0.00     16676\n",
      "\n",
      "    accuracy                           0.79     78060\n",
      "   macro avg       0.39      0.50      0.44     78060\n",
      "weighted avg       0.62      0.79      0.69     78060\n",
      "\n"
     ]
    },
    {
     "name": "stderr",
     "output_type": "stream",
     "text": [
      "C:\\Users\\vnnm\\AppData\\Local\\Programs\\Python\\Python311\\Lib\\site-packages\\sklearn\\metrics\\_classification.py:1344: UndefinedMetricWarning: Precision and F-score are ill-defined and being set to 0.0 in labels with no predicted samples. Use `zero_division` parameter to control this behavior.\n",
      "  _warn_prf(average, modifier, msg_start, len(result))\n",
      "C:\\Users\\vnnm\\AppData\\Local\\Programs\\Python\\Python311\\Lib\\site-packages\\sklearn\\metrics\\_classification.py:1344: UndefinedMetricWarning: Precision and F-score are ill-defined and being set to 0.0 in labels with no predicted samples. Use `zero_division` parameter to control this behavior.\n",
      "  _warn_prf(average, modifier, msg_start, len(result))\n",
      "C:\\Users\\vnnm\\AppData\\Local\\Programs\\Python\\Python311\\Lib\\site-packages\\sklearn\\metrics\\_classification.py:1344: UndefinedMetricWarning: Precision and F-score are ill-defined and being set to 0.0 in labels with no predicted samples. Use `zero_division` parameter to control this behavior.\n",
      "  _warn_prf(average, modifier, msg_start, len(result))\n"
     ]
    }
   ],
   "source": [
    "print(classification_report(y_test.values, y_test_pred))"
   ]
  },
  {
   "cell_type": "markdown",
   "id": "4d0ee381-451b-45a1-842f-000dc2ad81c5",
   "metadata": {},
   "source": [
    "### RandomForestClassifier"
   ]
  },
  {
   "cell_type": "code",
   "execution_count": 204,
   "id": "84518106-0547-4002-80bd-dfa4b6338dd8",
   "metadata": {},
   "outputs": [],
   "source": [
    "from sklearn.ensemble import RandomForestClassifier"
   ]
  },
  {
   "cell_type": "code",
   "execution_count": 206,
   "id": "058e0832-5168-42c2-a71e-6b187f02a265",
   "metadata": {},
   "outputs": [],
   "source": [
    "clf = RandomForestClassifier(random_state=0)"
   ]
  },
  {
   "cell_type": "code",
   "execution_count": 208,
   "id": "bd8d2502-fb15-4988-bdf2-8f76d0ddba85",
   "metadata": {},
   "outputs": [
    {
     "data": {
      "text/html": [
       "<style>#sk-container-id-3 {color: black;background-color: white;}#sk-container-id-3 pre{padding: 0;}#sk-container-id-3 div.sk-toggleable {background-color: white;}#sk-container-id-3 label.sk-toggleable__label {cursor: pointer;display: block;width: 100%;margin-bottom: 0;padding: 0.3em;box-sizing: border-box;text-align: center;}#sk-container-id-3 label.sk-toggleable__label-arrow:before {content: \"▸\";float: left;margin-right: 0.25em;color: #696969;}#sk-container-id-3 label.sk-toggleable__label-arrow:hover:before {color: black;}#sk-container-id-3 div.sk-estimator:hover label.sk-toggleable__label-arrow:before {color: black;}#sk-container-id-3 div.sk-toggleable__content {max-height: 0;max-width: 0;overflow: hidden;text-align: left;background-color: #f0f8ff;}#sk-container-id-3 div.sk-toggleable__content pre {margin: 0.2em;color: black;border-radius: 0.25em;background-color: #f0f8ff;}#sk-container-id-3 input.sk-toggleable__control:checked~div.sk-toggleable__content {max-height: 200px;max-width: 100%;overflow: auto;}#sk-container-id-3 input.sk-toggleable__control:checked~label.sk-toggleable__label-arrow:before {content: \"▾\";}#sk-container-id-3 div.sk-estimator input.sk-toggleable__control:checked~label.sk-toggleable__label {background-color: #d4ebff;}#sk-container-id-3 div.sk-label input.sk-toggleable__control:checked~label.sk-toggleable__label {background-color: #d4ebff;}#sk-container-id-3 input.sk-hidden--visually {border: 0;clip: rect(1px 1px 1px 1px);clip: rect(1px, 1px, 1px, 1px);height: 1px;margin: -1px;overflow: hidden;padding: 0;position: absolute;width: 1px;}#sk-container-id-3 div.sk-estimator {font-family: monospace;background-color: #f0f8ff;border: 1px dotted black;border-radius: 0.25em;box-sizing: border-box;margin-bottom: 0.5em;}#sk-container-id-3 div.sk-estimator:hover {background-color: #d4ebff;}#sk-container-id-3 div.sk-parallel-item::after {content: \"\";width: 100%;border-bottom: 1px solid gray;flex-grow: 1;}#sk-container-id-3 div.sk-label:hover label.sk-toggleable__label {background-color: #d4ebff;}#sk-container-id-3 div.sk-serial::before {content: \"\";position: absolute;border-left: 1px solid gray;box-sizing: border-box;top: 0;bottom: 0;left: 50%;z-index: 0;}#sk-container-id-3 div.sk-serial {display: flex;flex-direction: column;align-items: center;background-color: white;padding-right: 0.2em;padding-left: 0.2em;position: relative;}#sk-container-id-3 div.sk-item {position: relative;z-index: 1;}#sk-container-id-3 div.sk-parallel {display: flex;align-items: stretch;justify-content: center;background-color: white;position: relative;}#sk-container-id-3 div.sk-item::before, #sk-container-id-3 div.sk-parallel-item::before {content: \"\";position: absolute;border-left: 1px solid gray;box-sizing: border-box;top: 0;bottom: 0;left: 50%;z-index: -1;}#sk-container-id-3 div.sk-parallel-item {display: flex;flex-direction: column;z-index: 1;position: relative;background-color: white;}#sk-container-id-3 div.sk-parallel-item:first-child::after {align-self: flex-end;width: 50%;}#sk-container-id-3 div.sk-parallel-item:last-child::after {align-self: flex-start;width: 50%;}#sk-container-id-3 div.sk-parallel-item:only-child::after {width: 0;}#sk-container-id-3 div.sk-dashed-wrapped {border: 1px dashed gray;margin: 0 0.4em 0.5em 0.4em;box-sizing: border-box;padding-bottom: 0.4em;background-color: white;}#sk-container-id-3 div.sk-label label {font-family: monospace;font-weight: bold;display: inline-block;line-height: 1.2em;}#sk-container-id-3 div.sk-label-container {text-align: center;}#sk-container-id-3 div.sk-container {/* jupyter's `normalize.less` sets `[hidden] { display: none; }` but bootstrap.min.css set `[hidden] { display: none !important; }` so we also need the `!important` here to be able to override the default hidden behavior on the sphinx rendered scikit-learn.org. See: https://github.com/scikit-learn/scikit-learn/issues/21755 */display: inline-block !important;position: relative;}#sk-container-id-3 div.sk-text-repr-fallback {display: none;}</style><div id=\"sk-container-id-3\" class=\"sk-top-container\"><div class=\"sk-text-repr-fallback\"><pre>RandomForestClassifier(random_state=0)</pre><b>In a Jupyter environment, please rerun this cell to show the HTML representation or trust the notebook. <br />On GitHub, the HTML representation is unable to render, please try loading this page with nbviewer.org.</b></div><div class=\"sk-container\" hidden><div class=\"sk-item\"><div class=\"sk-estimator sk-toggleable\"><input class=\"sk-toggleable__control sk-hidden--visually\" id=\"sk-estimator-id-3\" type=\"checkbox\" checked><label for=\"sk-estimator-id-3\" class=\"sk-toggleable__label sk-toggleable__label-arrow\">RandomForestClassifier</label><div class=\"sk-toggleable__content\"><pre>RandomForestClassifier(random_state=0)</pre></div></div></div></div></div>"
      ],
      "text/plain": [
       "RandomForestClassifier(random_state=0)"
      ]
     },
     "execution_count": 208,
     "metadata": {},
     "output_type": "execute_result"
    }
   ],
   "source": [
    "clf.fit(X_train.values, y_train.values)"
   ]
  },
  {
   "cell_type": "code",
   "execution_count": 209,
   "id": "7a97c9c1-815e-4039-a835-2b2d67458457",
   "metadata": {},
   "outputs": [
    {
     "data": {
      "text/plain": [
       "array([0.72252114, 0.72517294, 0.72229055])"
      ]
     },
     "execution_count": 209,
     "metadata": {},
     "output_type": "execute_result"
    }
   ],
   "source": [
    "cross_val_score(clf, X_test.values, y_test.values, cv=3, scoring=\"accuracy\")"
   ]
  },
  {
   "cell_type": "code",
   "execution_count": 210,
   "id": "6b7021b5-e440-4945-858f-d35c1ec3a8ac",
   "metadata": {},
   "outputs": [],
   "source": [
    "y_test_pred = clf.predict(X_test.values)"
   ]
  },
  {
   "cell_type": "code",
   "execution_count": 211,
   "id": "3522c1e8-4aab-4e4f-a658-25b83b3106be",
   "metadata": {},
   "outputs": [
    {
     "name": "stdout",
     "output_type": "stream",
     "text": [
      "              precision    recall  f1-score   support\n",
      "\n",
      "         0.0       0.79      0.96      0.87     61384\n",
      "         1.0       0.21      0.03      0.06     16676\n",
      "\n",
      "    accuracy                           0.77     78060\n",
      "   macro avg       0.50      0.50      0.46     78060\n",
      "weighted avg       0.66      0.77      0.69     78060\n",
      "\n"
     ]
    }
   ],
   "source": [
    "print(classification_report(y_test.values, y_test_pred))"
   ]
  },
  {
   "cell_type": "markdown",
   "id": "c9067c0c-a344-4d38-a780-e3cc18a789dc",
   "metadata": {},
   "source": [
    "### Neural Networks \\[MLPClassifier\\]"
   ]
  },
  {
   "cell_type": "code",
   "execution_count": 21,
   "id": "d69c4044-67ef-4976-a191-046c5000031c",
   "metadata": {},
   "outputs": [],
   "source": [
    "from sklearn.neural_network import MLPClassifier"
   ]
  },
  {
   "cell_type": "code",
   "execution_count": 23,
   "id": "6568358e-38b4-4831-a3a5-6b98be764675",
   "metadata": {},
   "outputs": [],
   "source": [
    "clf = MLPClassifier(random_state=1)"
   ]
  },
  {
   "cell_type": "code",
   "execution_count": 24,
   "id": "353d0b88-6880-49e8-b678-53a8b5a9dc7c",
   "metadata": {},
   "outputs": [
    {
     "data": {
      "text/html": [
       "<style>#sk-container-id-1 {color: black;background-color: white;}#sk-container-id-1 pre{padding: 0;}#sk-container-id-1 div.sk-toggleable {background-color: white;}#sk-container-id-1 label.sk-toggleable__label {cursor: pointer;display: block;width: 100%;margin-bottom: 0;padding: 0.3em;box-sizing: border-box;text-align: center;}#sk-container-id-1 label.sk-toggleable__label-arrow:before {content: \"▸\";float: left;margin-right: 0.25em;color: #696969;}#sk-container-id-1 label.sk-toggleable__label-arrow:hover:before {color: black;}#sk-container-id-1 div.sk-estimator:hover label.sk-toggleable__label-arrow:before {color: black;}#sk-container-id-1 div.sk-toggleable__content {max-height: 0;max-width: 0;overflow: hidden;text-align: left;background-color: #f0f8ff;}#sk-container-id-1 div.sk-toggleable__content pre {margin: 0.2em;color: black;border-radius: 0.25em;background-color: #f0f8ff;}#sk-container-id-1 input.sk-toggleable__control:checked~div.sk-toggleable__content {max-height: 200px;max-width: 100%;overflow: auto;}#sk-container-id-1 input.sk-toggleable__control:checked~label.sk-toggleable__label-arrow:before {content: \"▾\";}#sk-container-id-1 div.sk-estimator input.sk-toggleable__control:checked~label.sk-toggleable__label {background-color: #d4ebff;}#sk-container-id-1 div.sk-label input.sk-toggleable__control:checked~label.sk-toggleable__label {background-color: #d4ebff;}#sk-container-id-1 input.sk-hidden--visually {border: 0;clip: rect(1px 1px 1px 1px);clip: rect(1px, 1px, 1px, 1px);height: 1px;margin: -1px;overflow: hidden;padding: 0;position: absolute;width: 1px;}#sk-container-id-1 div.sk-estimator {font-family: monospace;background-color: #f0f8ff;border: 1px dotted black;border-radius: 0.25em;box-sizing: border-box;margin-bottom: 0.5em;}#sk-container-id-1 div.sk-estimator:hover {background-color: #d4ebff;}#sk-container-id-1 div.sk-parallel-item::after {content: \"\";width: 100%;border-bottom: 1px solid gray;flex-grow: 1;}#sk-container-id-1 div.sk-label:hover label.sk-toggleable__label {background-color: #d4ebff;}#sk-container-id-1 div.sk-serial::before {content: \"\";position: absolute;border-left: 1px solid gray;box-sizing: border-box;top: 0;bottom: 0;left: 50%;z-index: 0;}#sk-container-id-1 div.sk-serial {display: flex;flex-direction: column;align-items: center;background-color: white;padding-right: 0.2em;padding-left: 0.2em;position: relative;}#sk-container-id-1 div.sk-item {position: relative;z-index: 1;}#sk-container-id-1 div.sk-parallel {display: flex;align-items: stretch;justify-content: center;background-color: white;position: relative;}#sk-container-id-1 div.sk-item::before, #sk-container-id-1 div.sk-parallel-item::before {content: \"\";position: absolute;border-left: 1px solid gray;box-sizing: border-box;top: 0;bottom: 0;left: 50%;z-index: -1;}#sk-container-id-1 div.sk-parallel-item {display: flex;flex-direction: column;z-index: 1;position: relative;background-color: white;}#sk-container-id-1 div.sk-parallel-item:first-child::after {align-self: flex-end;width: 50%;}#sk-container-id-1 div.sk-parallel-item:last-child::after {align-self: flex-start;width: 50%;}#sk-container-id-1 div.sk-parallel-item:only-child::after {width: 0;}#sk-container-id-1 div.sk-dashed-wrapped {border: 1px dashed gray;margin: 0 0.4em 0.5em 0.4em;box-sizing: border-box;padding-bottom: 0.4em;background-color: white;}#sk-container-id-1 div.sk-label label {font-family: monospace;font-weight: bold;display: inline-block;line-height: 1.2em;}#sk-container-id-1 div.sk-label-container {text-align: center;}#sk-container-id-1 div.sk-container {/* jupyter's `normalize.less` sets `[hidden] { display: none; }` but bootstrap.min.css set `[hidden] { display: none !important; }` so we also need the `!important` here to be able to override the default hidden behavior on the sphinx rendered scikit-learn.org. See: https://github.com/scikit-learn/scikit-learn/issues/21755 */display: inline-block !important;position: relative;}#sk-container-id-1 div.sk-text-repr-fallback {display: none;}</style><div id=\"sk-container-id-1\" class=\"sk-top-container\"><div class=\"sk-text-repr-fallback\"><pre>MLPClassifier(random_state=1)</pre><b>In a Jupyter environment, please rerun this cell to show the HTML representation or trust the notebook. <br />On GitHub, the HTML representation is unable to render, please try loading this page with nbviewer.org.</b></div><div class=\"sk-container\" hidden><div class=\"sk-item\"><div class=\"sk-estimator sk-toggleable\"><input class=\"sk-toggleable__control sk-hidden--visually\" id=\"sk-estimator-id-1\" type=\"checkbox\" checked><label for=\"sk-estimator-id-1\" class=\"sk-toggleable__label sk-toggleable__label-arrow\">MLPClassifier</label><div class=\"sk-toggleable__content\"><pre>MLPClassifier(random_state=1)</pre></div></div></div></div></div>"
      ],
      "text/plain": [
       "MLPClassifier(random_state=1)"
      ]
     },
     "execution_count": 24,
     "metadata": {},
     "output_type": "execute_result"
    }
   ],
   "source": [
    "clf.fit(X_train.values, y_train.values)"
   ]
  },
  {
   "cell_type": "code",
   "execution_count": 27,
   "id": "ed250128-a2ba-4684-981f-16def594b182",
   "metadata": {},
   "outputs": [
    {
     "name": "stderr",
     "output_type": "stream",
     "text": [
      "C:\\Users\\vnnm\\AppData\\Local\\Programs\\Python\\Python311\\Lib\\site-packages\\sklearn\\neural_network\\_multilayer_perceptron.py:679: ConvergenceWarning: Stochastic Optimizer: Maximum iterations (200) reached and the optimization hasn't converged yet.\n",
      "  warnings.warn(\n"
     ]
    },
    {
     "data": {
      "text/plain": [
       "array([0.78397387, 0.78239816, 0.77886241])"
      ]
     },
     "execution_count": 27,
     "metadata": {},
     "output_type": "execute_result"
    }
   ],
   "source": [
    "cross_val_score(clf, X_test.values, y_test.values, cv=3, scoring=\"accuracy\")"
   ]
  },
  {
   "cell_type": "code",
   "execution_count": 218,
   "id": "0fe7bdab-7c64-4679-a38c-404514046a7c",
   "metadata": {},
   "outputs": [],
   "source": [
    "y_test_pred = clf.predict(X_test.values)"
   ]
  },
  {
   "cell_type": "code",
   "execution_count": 219,
   "id": "02d5a201-306a-491b-82b0-d27b1872509e",
   "metadata": {},
   "outputs": [
    {
     "name": "stdout",
     "output_type": "stream",
     "text": [
      "              precision    recall  f1-score   support\n",
      "\n",
      "         0.0       0.79      0.97      0.87     61384\n",
      "         1.0       0.21      0.03      0.05     16676\n",
      "\n",
      "    accuracy                           0.77     78060\n",
      "   macro avg       0.50      0.50      0.46     78060\n",
      "weighted avg       0.66      0.77      0.69     78060\n",
      "\n"
     ]
    }
   ],
   "source": [
    "print(classification_report(y_test.values, y_test_pred))"
   ]
  },
  {
   "cell_type": "markdown",
   "id": "fa2491c6-f8cf-42ff-a50b-152698a78f11",
   "metadata": {},
   "source": [
    "### Deep Learning\n",
    "I will train a neural network using keras in hopes of increasing our accuracy\n",
    "\n",
    "Click here for the google colab link\n",
    "https://colab.research.google.com/drive/1xVzuiZL9wB8Ie6_i3ciwx3PBIlqYkxtT?usp=sharing"
   ]
  },
  {
   "cell_type": "markdown",
   "id": "022f8be0-9a9a-45a5-9766-ce2faebfe6ab",
   "metadata": {},
   "source": [
    "## Results\n",
    "From the classification report(s) generated above, there is seemingly little (RandomForestClassifier) to no (Keras and every other model) correlation between the features given and cases in which the defendant plead guilty.\n",
    "\n",
    "Thus, one cannot infer whether a defendant plead guilty based on the features chosen above."
   ]
  }
 ],
 "metadata": {
  "kernelspec": {
   "display_name": "Python 3 (ipykernel)",
   "language": "python",
   "name": "python3"
  },
  "language_info": {
   "codemirror_mode": {
    "name": "ipython",
    "version": 3
   },
   "file_extension": ".py",
   "mimetype": "text/x-python",
   "name": "python",
   "nbconvert_exporter": "python",
   "pygments_lexer": "ipython3",
   "version": "3.11.0"
  }
 },
 "nbformat": 4,
 "nbformat_minor": 5
}
