import pandas as pd


pd.set_option('display.max_rows', 50)


pd.reset_option('all')


judges_df = pd.read_csv('../data/judges_clean.csv')
states_df = pd.read_csv('../data/keys/cases_state_key.csv')
districts_df = pd.read_csv('../data/keys/cases_district_key.csv')
courts_df = pd.read_csv('../data/keys/cases_court_key.csv')


judges_df['judge_position'].value_counts()  # looking at position data


judges_df['female_judge'].value_counts()  # looking at gender data


male_filt = judges_df['female_judge'] == '0 nonfemale'
female_filt = judges_df['female_judge'] == '1 female'


judges_df[female_filt]['judge_position'].value_counts()


judges_df[male_filt]['judge_position'].value_counts()


states_df.groupby(by='state_code').max()


state_mfratio = {}
for code, row in states_df.groupby(by='state_code').max().iterrows():
    name = row['state_name']

    filt = female_filt & (judges_df['state_code'] == code)
    nfemale = judges_df[filt].shape[0]

    filt = male_filt & (judges_df['state_code'] == code)
    nmale = judges_df[filt].shape[0]

    if nmale == 0 and nfemale == 0:
        continue

    state_mfratio[name] = {
        'm': nmale,
        'f': nfemale,
        'm_mf': round((nmale / (nmale + nfemale)) * 100, 2),
        'f_mf': round((nfemale / (nmale + nfemale)) * 100, 2),
    }


# now we sort by states with the highest female ratio
state_fratio = []
for state, stat in state_mfratio.items():
    state_fratio.append((stat['f_mf'], state))

sorted(state_fratio, reverse=True)
