# libraries
import pandas as pd
import geopandas as gpd
import numpy as np
import matplotlib.pyplot as plt


CHUNK_SIZE = 1_000_000
years = ['2010', '2011', '2012', '2013', '2014', '2015', '2016', '2017', '2018']


get_ipython().run_cell_magic("time", "", """cases_noverdict = {year: 0 for year in years}  # year[int]: [int]
for year in years:
    cases_df = pd.read_csv(f'../data/cases/cases_{year}.csv',
                           chunksize=CHUNK_SIZE,
                           iterator=True,
                           low_memory=False)

    for df in cases_df:
        cases_noverdict[year] += df.shape[0] - df['date_of_decision'].count()
        print('.', end='')""")


cases_noverdict


fig, ax = plt.subplots()

years = cases_noverdict.keys()
cases_unresolved = cases_noverdict.values()

ax.bar(years, cases_unresolved)

ax.set_ylabel('Unresolved Cases')
ax.set_title('Yearly Distribution of Unresolved Cases')

plt.show()  # notice how the growth in cases is exponential


# over the last 5 years
cases_noverdict['2014']

fig, ax = plt.subplots()

years = ['2014', '2018']
cases_unresolved = [cases_noverdict['2014'], cases_noverdict['2018']]

ax.bar(years, cases_unresolved)

ax.set_ylabel('Unresolved Cases')
ax.set_title('Yearly Distribution of Unresolved Cases')

plt.show()


cases_noverdict['2018'] / cases_noverdict['2010']


cases_noverdict['2018'] / cases_noverdict['2014']


get_ipython().run_cell_magic("time", "", """# statewise analysis
# year[int]: {state: 0 for state in states}
cases_yearly_noverdict = {year: {} for year in years}
for year in years:
    cases_df = pd.read_csv(f'../data/cases/cases_{year}.csv',
                           chunksize=CHUNK_SIZE,
                           iterator=True,
                           low_memory=False)

    for df in cases_df:
        groupby_df = df.groupby('state_code').agg({'date_of_decision': lambda x: x.isnull().sum()})
        for state_code, row in groupby_df.iterrows():
            if state_code not in cases_yearly_noverdict[year]:
                cases_yearly_noverdict[year][state_code] = 0

            cases_yearly_noverdict[year][state_code] += row['date_of_decision']

        print('.', end='')""")


# we now import state data
states_df = pd.read_csv('../data/keys/cases_state_key.csv')


# plotting the results for year 2018
shp_gdf = gpd.read_file('../assets/india_plot/indian_states.shp')
shp_gdf.at[23, 'st_nm'] = 'Delhi'

def get_list_data(year):
    data = []
    for index, row in shp_gdf.iterrows():
        data_point = 0

        state_filt = states_df['state_name'].str[:5] == row['st_nm'][:5]
        state_df = states_df[state_filt]
        if state_df.shape[0]:
            state_code = state_df.iloc[0]['state_code']

            if state_code in cases_yearly_noverdict[year]:
                data_point = cases_yearly_noverdict[year][state_code]

        data.append(data_point)

    return data

for year in years:
    shp_gdf[f'unresolved_cases_{year}'] = get_list_data(year)


fig, axs = plt.subplots(3, 3, figsize=(10, 6), constrained_layout=True)
for ax, year in zip(axs.flat, years):
    ax.axis('off')
    ax.set_title(f'Unresolved Cases in {year}',
                 fontdict={'fontsize': '14', 'fontweight': '2'})

    fig = shp_gdf.plot(column=f'unresolved_cases_{year}',
                   cmap='YlOrBr', linewidth=0.5,
                   ax=ax, edgecolor='0.2',
                   legend=True)


fig, ax = plt.subplots(1, figsize=(12, 12))
ax.axis('off')
ax.set_title('Unresolved Cases in 2018',
             fontdict={'fontsize': '14', 'fontweight': '2'})

fig = shp_gdf.plot(column='unresolved_cases_2018',
                   cmap='YlOrBr', linewidth=0.5,
                   ax=ax, edgecolor='0.2',
                   legend=True)
