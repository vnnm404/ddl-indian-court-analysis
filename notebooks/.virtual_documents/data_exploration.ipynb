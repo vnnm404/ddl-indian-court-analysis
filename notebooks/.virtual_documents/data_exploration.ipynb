import pandas as pd


pd.set_option('display.max_rows', 50)


pd.reset_option('all')


CHUNK_SIZE = 1_000_000


case_law_df = pd.read_csv('../data/acts_sections.csv',
                          chunksize=CHUNK_SIZE,
                          iterator=True,
                          low_memory=False)
sections_df = pd.read_csv('../data/keys/section_key.csv')
acts_df = pd.read_csv('../data/keys/act_key.csv')


sections_df.sort_values(by='count', ascending=False)


acts_df2 = acts_df.sort_values(by='count', ascending=False)


# the percentages of total value
total_act_count = acts_df2['count'].sum()  # 76765611.0


acts_df2['percentages'] = acts_df2['count'].div(total_act_count).mul(100)


acts_df2.head()


acts_df_cols = list(acts_df.columns)
acts_df_cols[1] = 'act_count'
acts_df.columns = acts_df_cols


sections_df_cols = list(sections_df.columns)
sections_df_cols[1] = 'section_count'
sections_df.columns = sections_df_cols


chunk = 1
for df in case_law_df:
    # merge with acts
    df_acts = pd.merge(df, acts_df, how='inner', on=['act'])
    df_acts.drop(columns=['act'], inplace=True)

    # merge with sections
    df_acts_sections = pd.merge(df_acts, sections_df, how='inner', on=['section'])
    df_acts_sections.drop(columns=['section'], inplace=True)

    # write df_acts_sections to a data file
    df_acts_sections.to_csv('../data/_baked/case_law.csv',
                            header=(chunk == 1),
                            mode='a',
                            index=False)

    print(f'written_chunk: {chunk}')
    chunk += 1

print(f'total_chunks: {chunk}')


types_df = pd.read_csv('../data/keys/type_name_key.csv')
purposes_df = pd.read_csv('../data/keys/purpose_name_key.csv')
dispositions_df = pd.read_csv('../data/keys/disp_name_key.csv')


types_df.shape


types_df.groupby(by='type_name_s').sum().sort_values('count', ascending=False).head(50)


types_df[types_df['type_name_s'].str.contains('motor', na=False)].sort_values('count', ascending=False)


purposes_df.groupby(by='purpose_name_s').sum().sort_values('count', ascending=False).head(50)


dispositions_df.groupby(by='disp_name_s').sum().sort_values('count', ascending=False).head(100)


dispositions_df[dispositions_df['disp_name_s'].str.contains('bail')]



