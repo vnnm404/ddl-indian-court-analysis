# libraries
import pandas as pd
import geopandas as gpd
import numpy as np
import matplotlib.pyplot as plt


# import the judges data
judges_df = pd.read_csv('../data/judges_clean.csv')


male_filt = judges_df['female_judge'] == '0 nonfemale'
female_filt = judges_df['female_judge'] == '1 female'


judges_df['female_judge'].value_counts()


judges_df[female_filt]['judge_position'].value_counts(normalize=True)


judges_df[male_filt]['judge_position'].value_counts(normalize=True)


# plots
positions = list(judges_df[male_filt]['judge_position'].value_counts().index)[:5]
judges_female_position_percentages = [
    round(judges_df[female_filt]['judge_position'].value_counts(normalize=True)[position], 2)
    for position in positions
]
judges_male_position_percentages = [
    round(judges_df[male_filt]['judge_position'].value_counts(normalize=True)[position], 2)
    for position in positions
]

x = np.arange(len(positions)) # label locations
width = 0.35 # width of bars

fig, ax = plt.subplots()
rects1 = ax.bar(x - width/2, judges_male_position_percentages, width, label='Male')
rects2 = ax.bar(x + width/2, judges_female_position_percentages, width, label='Female')

# Add some text for labels, title and custom x-axis tick labels, etc.
ax.set_ylabel('Judge Positions')
ax.set_title('Position by gender')
ax.set_xticks(x, positions, rotation=90)
ax.legend()

ax.bar_label(rects1, padding=1)
ax.bar_label(rects2, padding=1)

plt.show()


# import state data
states_df = pd.read_csv('../data/keys/cases_state_key.csv')


male_filt = judges_df['female_judge'] == '0 nonfemale'
female_filt = judges_df['female_judge'] == '1 female'


# we iterate over every state and count the number of male judges
# and female judges for that state
state_mf_ratio = {}
for code, row in states_df.groupby(by='state_code').max().iterrows():
    name = row['state_name']

    filt = female_filt & (judges_df['state_code'] == code)
    nfemale = judges_df[filt].shape[0]

    filt = male_filt & (judges_df['state_code'] == code)
    nmale = judges_df[filt].shape[0]

    if nmale == 0 and nfemale == 0:
        continue

    state_mf_ratio[name] = {
        'm': nmale,
        'f': nfemale,
        'm_mf': round((nmale / (nmale + nfemale)) * 100, 2),
        'f_mf': round((nfemale / (nmale + nfemale)) * 100, 2),
    }


# now we sort by states with the highest female ratio
state_fratio = []
for state, stat in state_mf_ratio.items():
    state_fratio.append((stat['f_mf'], state))

sorted(state_fratio, reverse=True)


# work to plot data
shp_gdf = gpd.read_file('../assets/india_plot/indian_states.shp')
shp_gdf.at[23, 'st_nm'] = 'Delhi'

data = []
for index, row in shp_gdf.iterrows():
    ratio = 0
    for state in state_fratio:
        if state[1][:5] == row['st_nm'][:5]:
            ratio = state[0]
            break

    data.append(ratio)

shp_gdf['female_male_ratio'] = data


fig, ax = plt.subplots(1, figsize=(12, 12))
ax.axis('off')
ax.set_title('Female Percentage of Judges',
             fontdict={'fontsize': '14', 'fontweight': '2'})

fig = shp_gdf.plot(column='female_male_ratio',
                   cmap='YlGn', linewidth=0.5,
                   ax=ax, edgecolor='0.2',
                   legend=True)


CHUNK_SIZE = 1_000_000
years = ['2010', '2011', '2012', '2013', '2014', '2015', '2016', '2017', '2018']


# import disposition data
dispositions_df = pd.read_csv('../data/keys/disp_name_key.csv')


# now we find 'plead guilty' cases
dispositions_df.sort_values(by='count', ascending=False)


# notice, most dispositions are missing, we drop these values
filt = ~dispositions_df['disp_name_s'].str.contains('var missing')
dispositions_df = dispositions_df[filt]

# we now find guilty dispositions
# (notice) disp_name == 38 or disp_name == 37 for plead guilty cases
plead_guilty_filt = dispositions_df['disp_name_s'].str.lower() == 'plead guilty'
dispositions_df[plead_guilty_filt].sort_values(by='count', ascending=False)


get_ipython().run_cell_magic("time", "", """plead_guilty_male = 0
plead_guilty_female = 0
total_cases_male = 0
total_cases_female = 0

for year in years:
    cases_df = pd.read_csv(f'../data/cases/cases_{year}.csv',
                           chunksize=CHUNK_SIZE,
                           iterator=True,
                           low_memory=False)

    for df in cases_df:
        pg_filt = (df['disp_name'] == 37) | (df['disp_name'] == 38)
        male_filt = (df['female_defendant'] == '0 male')
        female_filt = (df['female_defendant'] == '1 female')

        total_cases_male += df[male_filt].shape[0]
        total_cases_female += df[female_filt].shape[0]
 
        plead_guilty_male += df[pg_filt & male_filt].shape[0]
        plead_guilty_female += df[pg_filt & female_filt].shape[0]

        print('.', end='')

print()
print(plead_guilty_male, total_cases_male)
print(plead_guilty_female, total_cases_female)""")


print(
    round(plead_guilty_male / total_cases_male, 8) * 100,
    round(plead_guilty_female / total_cases_female, 8) * 100
)


# we import case type details
types_df = pd.read_csv('../data/keys/type_name_key.csv')


types_df.sort_values(by='count', ascending=False)


domestic_filt = types_df['type_name_s'].str.contains('domestic violence', na=False)
types_df[domestic_filt].head()


get_ipython().run_cell_magic("time", "", """domestic_violence_male = 0
domestic_violence_female = 0
total_cases_male = 0
total_cases_female = 0

for year in years:
    cases_df = pd.read_csv(f'../data/cases/cases_{year}.csv',
                           chunksize=CHUNK_SIZE,
                           iterator=True,
                           low_memory=False)

    for df in cases_df:
        merged_df = pd.merge(df, types_df, on='type_name', how='inner')
        
        domestic_violence_filt = merged_df['type_name_s'].str.contains('domestic violence')    
        male_defendant_filt = (merged_df['female_defendant'] == '0 male')
        female_defendant_filt = (merged_df['female_defendant'] == '1 female')

        total_cases_male += merged_df[male_defendant_filt].shape[0]
        total_cases_female += merged_df[female_defendant_filt].shape[0]
 
        domestic_violence_male += merged_df[domestic_violence_filt & male_defendant_filt].shape[0]
        domestic_violence_female += merged_df[domestic_violence_filt & female_defendant_filt].shape[0]

        print('.', end='')

print()
print(domestic_violence_male, total_cases_male)
print(domestic_violence_female, total_cases_female)""")


print(
    round(domestic_violence_male / total_cases_male, 8) * 100,
    round(domestic_violence_female / total_cases_female, 8) * 100
)
