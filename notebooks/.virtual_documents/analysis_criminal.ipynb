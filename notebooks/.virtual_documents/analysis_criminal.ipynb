# libraries
import pandas as pd
import geopandas as gpd
import numpy as np
import matplotlib.pyplot as plt


CHUNK_SIZE = 1_000_000
years = ['2010', '2011', '2012', '2013', '2014', '2015', '2016', '2017', '2018']


# :warning: this cell takes very long to run
chunk = 1
for year in years:
    cases_df = pd.read_csv(f'../data/cases/cases_{year}.csv',
                           chunksize=CHUNK_SIZE,
                           iterator=True,
                           low_memory=False)

    for df in cases_df:
        case_law_df = pd.read_csv('../data/acts_sections.csv',
                                  chunksize=CHUNK_SIZE,
                                  iterator=True,
                                  low_memory=False)

        for part_df in case_law_df:
            merge_df = pd.merge(df, part_df, how='inner', on=['ddl_case_id'])

            # the merge_df now contains valid cases as rows,
            # we can write this to a file.
            merge_df.to_csv('../data/_baked/cases_recorded.csv',
                            header=(chunk == 1),
                            mode='a',
                            index=False)

            print(f'written_chunk: {chunk}')
            chunk += 1

print(f'total_chunks: {chunk}')


get_ipython().run_cell_magic("time", "", """recorded_cases_df = pd.read_csv('../data/_baked/cases_recorded.csv',
                                chunksize=CHUNK_SIZE,
                                iterator=True,
                                low_memory=False)

statewise_criminal_cases = {}
for df in recorded_cases_df:
    criminal_filt = (df['criminal'] == 1)
    
    for state_code, row in df.groupby('state_code').count().iterrows():
        if state_code not in statewise_criminal_cases:
            statewise_criminal_cases[state_code] = { 'total': 0, 'criminal': 0 }

        statewise_criminal_cases[state_code]['total'] += row['criminal']

    for state_code, row in df[criminal_filt].groupby('state_code').count().iterrows():
        if state_code not in statewise_criminal_cases:
            statewise_criminal_cases[state_code] = { 'total': 0, 'criminal': 0 }

        statewise_criminal_cases[state_code]['criminal'] += row['criminal']

    print('.', end='')

print()
print(statewise_criminal_cases)""")


# we now import state data
states_df = pd.read_csv('../data/keys/cases_state_key.csv')


fig, ax = plt.subplots(1, figsize=(12, 12))
ax.axis('off')
ax.set_title('Crime Rates Across India',
             fontdict={'fontsize': '14', 'fontweight': '2'})

fig = shp_gdf.plot(column='crime_rate_ratio',
                   cmap='YlOrBr', linewidth=0.5,
                   ax=ax, edgecolor='0.2',
                   legend=True)


get_ipython().run_cell_magic("time", "", """recorded_cases_df = pd.read_csv('../data/_baked/cases_recorded.csv',
                                chunksize=CHUNK_SIZE,
                                iterator=True,
                                low_memory=False)

# month_no: { 'nocrime': [int], 'crime': [int] } ; no of criminal cases
criminal_distribtion_monthwise = {m: {'total': 0, 'crime': 0} for m in range(1, 12 + 1)}
for df in recorded_cases_df:
    # first we augment the df to have an additonal column called month
    df['month_of_filing'] = df['date_of_filing'].apply(lambda d: d.split('-')[1])
    df['month_of_filing'] = pd.to_numeric(df['month_of_filing'])
    
    # we can then group by month and add the total criminal cases
    for m, row in df.groupby(by='month_of_filing').sum(numeric_only=True).iterrows():
        criminal_distribtion_monthwise[m]['crime'] += row['criminal']
        
    # here we group by month and add the total cases
    for m, row in df.groupby(by='month_of_filing').count().iterrows():
        criminal_distribtion_monthwise[m]['total'] += row['criminal']

    print('.', end='')

print()
print(criminal_distribtion_monthwise)""")


# plotting data here
import calendar
months = list(calendar.month_name)[1:]
months

fig, ax = plt.subplots()

months = list(calendar.month_name)[1:]
crime_cases_ratio = [
    criminal_distribtion_monthwise[m]['crime'] / 
    criminal_distribtion_monthwise[m]['total'] * 100
    for m in range(1, 12 + 1)
]

ax.bar(months, crime_cases_ratio)

ax.set_ylabel('Percentage')
ax.tick_params(axis='x', labelrotation = 45)
ax.set_title('Crime Rate Across Months')
ax.set_ylim(ymin=32.5)

plt.show()


get_ipython().run_cell_magic("time", "", """# Time Analysis Cell
recorded_cases_df = pd.read_csv('../data/_baked/cases_recorded.csv',
                                chunksize=CHUNK_SIZE,
                                iterator=True,
                                low_memory=False)

days_deciding = { 'criminal': 0, 'not_criminal': 0 }
total_case_types = { 'criminal': 0, 'not_criminal': 0 }
for df in recorded_cases_df:
    df['date_of_decision'] = pd.to_datetime(df['date_of_decision'], infer_datetime_format=True, errors='coerce')
    df['date_of_filing'] = pd.to_datetime(df['date_of_filing'], infer_datetime_format=True, errors='coerce')

    df.dropna(subset=['date_of_decision', 'date_of_filing'], inplace=True)

    criminal_filt = (df['criminal'] == 1)
    not_criminal_filt = (df['criminal'] == 0)
    ndf = df[not_criminal_filt]
    df = df[criminal_filt]

    days_deciding['criminal'] += (df['date_of_decision'] - df['date_of_filing']).dt.days.sum()
    days_deciding['not_criminal'] += (ndf['date_of_decision'] - ndf['date_of_filing']).dt.days.sum()

    total_case_types['criminal'] += df.shape[0]
    total_case_types['not_criminal'] += ndf.shape[0]

    print('.', end='')

print()
print(days_deciding)
print(total_case_types)""")


print(
    round(days_deciding['criminal'] / total_case_types['criminal'], 8),
    round(days_deciding['not_criminal'] / total_case_types['not_criminal'], 8)
)
