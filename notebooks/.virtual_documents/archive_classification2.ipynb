import pandas as pd
from datetime import datetime
from datetime import timezone


CHUNK_SIZE = 100_000


get_ipython().run_cell_magic("time", "", """# decision judge with case id
judge_case_df = pd.read_csv('../data/keys/judge_case_merge_key.csv')
judge_case_df.drop(['ddl_filing_judge_id'], axis=1, inplace=True)

# rename column
judge_case_cols = list(judge_case_df.columns)
judge_case_cols[1] = 'ddl_judge_id'
judge_case_df.columns = judge_case_cols

# judges df
judges_df = pd.read_csv('../data/judges_clean.csv')
judges_df = judges_df[['ddl_judge_id', 'female_judge']]

# merge the two dfs
judge_data_df = pd.merge(judge_case_df, judges_df, on='ddl_judge_id', how='inner')""")


judge_data_df


dispositions_df = pd.read_csv('../data/keys/disp_name_key.csv')


get_ipython().run_cell_magic("time", "", """# in this cell we bake our data to extract features
cases_df = pd.read_csv('../data/_baked/cases_recorded.csv',
                iterator=True,
                chunksize=CHUNK_SIZE,
                low_memory=False)

chunk = 1
for df in cases_df:
    # PART1: merging to obtain decision judge gender
    df = pd.merge(df, judge_data_df, on='ddl_case_id', how='inner')

    # PART2: working with irrelevant columns
    df.drop(['bailable_ipc', 'dist_code', 'ddl_case_id', 'section',
             'cino', 'ddl_judge_id', 'number_sections_ipc', 'act',
             'female_adv_pet', 'female_adv_def', 'female_petitioner',
             'year', 'purpose_name'
            ], axis=1, inplace=True)
    
    # PART3: working with dates
    date_columns = ['date_of_decision', 'date_of_filing', 'date_first_list', 'date_last_list', 'date_next_list']
    # parse date columns as dates
    for date_col in date_columns:
        df[date_col] = pd.to_datetime(df[date_col], infer_datetime_format=True, errors='coerce')

    # drop rows whose dates could not be parsed
    df.dropna(subset=date_columns, inplace=True)

    # extract data
    for date_col in date_columns:
        df[f'{date_col}_year'] = df[date_col].dt.year
        df[f'{date_col}_month'] = df[date_col].dt.month
        df[f'{date_col}_day'] = df[date_col].dt.day

    # delete original date columns
    df.drop(date_columns, axis=1, inplace=True)

    # PART4: working with gender columns
    gender_columns = ['female_judge', 'female_defendant']
    # filter out unclear genders
    for gender_col in gender_columns:
        # filter on valid data
        df[gender_col] = df[gender_col].astype(str).transform(lambda gen: gen[0])
        gender_valid_filt = (df[gender_col] == '0') | (df[gender_col] == '1')
        df = df[gender_valid_filt]

        # convert to numeric column
        df[gender_col] = pd.to_numeric(df[gender_col])
    
    # PART5: we now filter to get cases in which the disposition is
    # acquitted or convicted
    df = pd.merge(df, dispositions_df, on='disp_name', how='inner')
    interested_in_filt = (df['disp_name_s'] == 'acquitted') | (df['disp_name_s'] == 'convicted')
    df = df[interested_in_filt]
    
    df.drop(['disp_name'], axis=1, inplace=True)
    
    # write df_acts_sections to a data file
    df.to_csv('../data/_baked/ml/convicted_acquitted.csv',
              header=(chunk == 1),
              mode='a',
              index=False)

    print('.', end='')
    chunk += 1

print('Done.')""")


data_df = pd.read_csv('../data/_baked/ml/convicted_acquitted.csv')


data_df.drop(['year', 'count'], axis=1, inplace=True)


data_df.columns


categorical_cols = ['court_no', 'judge_position', 'type_name']


for column in categorical_cols:
    vc_df = data_df[column].value_counts()
    valid_values = list(vc_df.iloc[:20].index)

    filt = data_df[column].isin(valid_values)
    data_df = data_df[filt]


data_df['disp_name_s'].value_counts()


from sklearn.preprocessing import OneHotEncoder


OH_encoder = OneHotEncoder(handle_unknown='ignore', sparse_output=False)

categorical_cols_df = data_df[categorical_cols]
numerical_df = data_df.drop(categorical_cols, axis=1)

OH_categorical_cols_df = pd.DataFrame(OH_encoder.fit_transform(categorical_cols_df))
OH_categorical_cols_df.index = categorical_cols_df.index

processed_df = pd.concat([OH_categorical_cols_df, numerical_df], axis=1)


processed_df['y'] = processed_df['disp_name_s'].transform(lambda disp_s: 1 if disp_s == 'convicted' else 0)


processed_df.drop(['disp_name_s'], axis=1, inplace=True)


get_ipython().run_cell_magic("time", "", """processed_df.to_csv('../data/_baked/ml/convicted_acquitted_processed.csv', index=False)""")


processed_df.shape


from sklearn.model_selection import train_test_split


X = processed_df.drop(['y'], axis=1)
y = processed_df['y']


X_train, X_test, y_train, y_test = train_test_split(X, y, test_size=0.3, random_state=42)


from sklearn.linear_model import SGDClassifier
sgd_clf = SGDClassifier(random_state=42)


sgd_clf.fit(X_train.values, y_train.values)


y_test_pred = sgd_clf.predict(X_test.values)


from sklearn.metrics import classification_report
print(classification_report(y_test.values, y_test_pred))


from sklearn.ensemble import RandomForestClassifier
rf_clf = RandomForestClassifier(random_state=42)


get_ipython().run_cell_magic("time", "", """rf_clf.fit(X_train.values, y_train.values)""")


y_test_pred = rf_clf.predict(X_test.values)
print(classification_report(y_test.values, y_test_pred))
