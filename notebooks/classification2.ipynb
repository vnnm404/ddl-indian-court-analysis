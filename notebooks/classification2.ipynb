{
 "cells": [
  {
   "cell_type": "markdown",
   "id": "5df125a0-e4b8-4d02-a218-0ff1c0b6348e",
   "metadata": {},
   "source": [
    "# Classification ~ *The Sequel*\n",
    "The goal of this attempt is to classify cases into two buckets, cases in which the defendant plead guilty or was found guilty and cases in which the defendant was found not guilty. The data split is done easily by checking the disposition name, 'convicted' for guilty cases and 'acquitted' for not guilty cases.\n",
    "\n",
    "This time, I will not attempt to extract features, I will simply give the data 'as is'. Extracting features from the date columns entails converting one date column into three columns, the day, month, and year.\n",
    "\n",
    "## Outcomes\n",
    "It could help identify individuals that commited the crime that they are in court for or whether a person is being falsely accused.\n",
    "\n",
    "## Technical Aspects\n",
    "This is a binary classification problem which avoids the overhead of `ovo` or `ova` solutions to multiclassification however we still have to clean the data.\n",
    "\n",
    "We will use the sklearn classification report to gauge the accuracy of the models, specifically because of the recall."
   ]
  },
  {
   "cell_type": "markdown",
   "id": "80b31a30-8d9b-4865-8aae-dbfd0bedf214",
   "metadata": {},
   "source": [
    "### Pre-processing\n",
    "Our data consists of `../data/_baked/cases_recorded.csv` and helper tables in `../data/keys/`.\n",
    "\n",
    "Before we can train models, we have to prepare the data. This is done with,\n",
    "\n",
    "* merging with judge details\n",
    "* dropping columns and rows with missing or conflicting data and working with dates\n",
    "* one hot encoding non numerical data with no inherent order like purpose_name\n",
    "* transforming numerical columns to have the same weight"
   ]
  },
  {
   "cell_type": "code",
   "execution_count": 16,
   "id": "7f245239-9abb-419d-9129-20c3db245d48",
   "metadata": {},
   "outputs": [],
   "source": [
    "import pandas as pd"
   ]
  },
  {
   "cell_type": "code",
   "execution_count": 3,
   "id": "df987e3f-6faa-4622-8459-6c5daa5863e3",
   "metadata": {},
   "outputs": [],
   "source": [
    "CHUNK_SIZE = 100_000"
   ]
  },
  {
   "cell_type": "code",
   "execution_count": 5,
   "id": "8aad7d29-e189-4c41-b1b4-558b5dc5590d",
   "metadata": {},
   "outputs": [
    {
     "name": "stdout",
     "output_type": "stream",
     "text": [
      "CPU times: total: 10.1 s\n",
      "Wall time: 10.2 s\n"
     ]
    }
   ],
   "source": [
    "%%time\n",
    "# decision judge with case id\n",
    "judge_case_df = pd.read_csv('../data/keys/judge_case_merge_key.csv')\n",
    "judge_case_df.drop(['ddl_filing_judge_id'], axis=1, inplace=True)\n",
    "\n",
    "# rename column\n",
    "judge_case_cols = list(judge_case_df.columns)\n",
    "judge_case_cols[1] = 'ddl_judge_id'\n",
    "judge_case_df.columns = judge_case_cols\n",
    "\n",
    "# judges df\n",
    "judges_df = pd.read_csv('../data/judges_clean.csv')\n",
    "judges_df = judges_df[['ddl_judge_id', 'female_judge']]\n",
    "\n",
    "# merge the two dfs\n",
    "judge_data_df = pd.merge(judge_case_df, judges_df, on='ddl_judge_id', how='inner')"
   ]
  },
  {
   "cell_type": "code",
   "execution_count": 6,
   "id": "d5431862-ed1e-4649-9f2a-37b996d54d71",
   "metadata": {},
   "outputs": [
    {
     "data": {
      "text/html": [
       "<div>\n",
       "<style scoped>\n",
       "    .dataframe tbody tr th:only-of-type {\n",
       "        vertical-align: middle;\n",
       "    }\n",
       "\n",
       "    .dataframe tbody tr th {\n",
       "        vertical-align: top;\n",
       "    }\n",
       "\n",
       "    .dataframe thead th {\n",
       "        text-align: right;\n",
       "    }\n",
       "</style>\n",
       "<table border=\"1\" class=\"dataframe\">\n",
       "  <thead>\n",
       "    <tr style=\"text-align: right;\">\n",
       "      <th></th>\n",
       "      <th>ddl_case_id</th>\n",
       "      <th>ddl_judge_id</th>\n",
       "      <th>female_judge</th>\n",
       "    </tr>\n",
       "  </thead>\n",
       "  <tbody>\n",
       "    <tr>\n",
       "      <th>0</th>\n",
       "      <td>01-01-01-201900000022018</td>\n",
       "      <td>5.0</td>\n",
       "      <td>0 nonfemale</td>\n",
       "    </tr>\n",
       "    <tr>\n",
       "      <th>1</th>\n",
       "      <td>01-01-01-201900000032017</td>\n",
       "      <td>5.0</td>\n",
       "      <td>0 nonfemale</td>\n",
       "    </tr>\n",
       "    <tr>\n",
       "      <th>2</th>\n",
       "      <td>01-01-01-201900000042016</td>\n",
       "      <td>5.0</td>\n",
       "      <td>0 nonfemale</td>\n",
       "    </tr>\n",
       "    <tr>\n",
       "      <th>3</th>\n",
       "      <td>01-01-01-201900000052018</td>\n",
       "      <td>5.0</td>\n",
       "      <td>0 nonfemale</td>\n",
       "    </tr>\n",
       "    <tr>\n",
       "      <th>4</th>\n",
       "      <td>01-01-01-201900000072016</td>\n",
       "      <td>5.0</td>\n",
       "      <td>0 nonfemale</td>\n",
       "    </tr>\n",
       "    <tr>\n",
       "      <th>...</th>\n",
       "      <td>...</td>\n",
       "      <td>...</td>\n",
       "      <td>...</td>\n",
       "    </tr>\n",
       "    <tr>\n",
       "      <th>12290700</th>\n",
       "      <td>30-02-05-204000000162014</td>\n",
       "      <td>98405.0</td>\n",
       "      <td>1 female</td>\n",
       "    </tr>\n",
       "    <tr>\n",
       "      <th>12290701</th>\n",
       "      <td>30-02-06-201400000682011</td>\n",
       "      <td>98452.0</td>\n",
       "      <td>0 nonfemale</td>\n",
       "    </tr>\n",
       "    <tr>\n",
       "      <th>12290702</th>\n",
       "      <td>30-02-06-201400000992011</td>\n",
       "      <td>98452.0</td>\n",
       "      <td>0 nonfemale</td>\n",
       "    </tr>\n",
       "    <tr>\n",
       "      <th>12290703</th>\n",
       "      <td>30-02-06-201400001092011</td>\n",
       "      <td>98452.0</td>\n",
       "      <td>0 nonfemale</td>\n",
       "    </tr>\n",
       "    <tr>\n",
       "      <th>12290704</th>\n",
       "      <td>30-02-06-201400001242011</td>\n",
       "      <td>98452.0</td>\n",
       "      <td>0 nonfemale</td>\n",
       "    </tr>\n",
       "  </tbody>\n",
       "</table>\n",
       "<p>12290705 rows × 3 columns</p>\n",
       "</div>"
      ],
      "text/plain": [
       "                       ddl_case_id  ddl_judge_id female_judge\n",
       "0         01-01-01-201900000022018           5.0  0 nonfemale\n",
       "1         01-01-01-201900000032017           5.0  0 nonfemale\n",
       "2         01-01-01-201900000042016           5.0  0 nonfemale\n",
       "3         01-01-01-201900000052018           5.0  0 nonfemale\n",
       "4         01-01-01-201900000072016           5.0  0 nonfemale\n",
       "...                            ...           ...          ...\n",
       "12290700  30-02-05-204000000162014       98405.0     1 female\n",
       "12290701  30-02-06-201400000682011       98452.0  0 nonfemale\n",
       "12290702  30-02-06-201400000992011       98452.0  0 nonfemale\n",
       "12290703  30-02-06-201400001092011       98452.0  0 nonfemale\n",
       "12290704  30-02-06-201400001242011       98452.0  0 nonfemale\n",
       "\n",
       "[12290705 rows x 3 columns]"
      ]
     },
     "execution_count": 6,
     "metadata": {},
     "output_type": "execute_result"
    }
   ],
   "source": [
    "judge_data_df"
   ]
  },
  {
   "cell_type": "code",
   "execution_count": 23,
   "id": "a0fd3ea1-ec8c-4ff8-9083-bfbb98519fb4",
   "metadata": {},
   "outputs": [],
   "source": [
    "dispositions_df = pd.read_csv('../data/keys/disp_name_key.csv')"
   ]
  },
  {
   "cell_type": "code",
   "execution_count": 28,
   "id": "4c093d39-13f5-4643-ad49-d9a6b4dac2bd",
   "metadata": {},
   "outputs": [
    {
     "name": "stdout",
     "output_type": "stream",
     "text": [
      "......................................................................................................................................................................................................................................................................................................................................................................................................................................................................................................................................................................................................................................................................................Done.\n",
      "CPU times: total: 1h 54min 56s\n",
      "Wall time: 1h 55min 9s\n"
     ]
    }
   ],
   "source": [
    "%%time\n",
    "# in this cell we bake our data to extract features\n",
    "cases_df = pd.read_csv('../data/_baked/cases_recorded.csv',\n",
    "                iterator=True,\n",
    "                chunksize=CHUNK_SIZE,\n",
    "                low_memory=False)\n",
    "\n",
    "chunk = 1\n",
    "for df in cases_df:\n",
    "    # PART1: merging to obtain decision judge gender\n",
    "    df = pd.merge(df, judge_data_df, on='ddl_case_id', how='inner')\n",
    "\n",
    "    # PART2: working with irrelevant columns\n",
    "    df.drop(['bailable_ipc', 'dist_code', 'ddl_case_id', 'section',\n",
    "             'cino', 'ddl_judge_id', 'number_sections_ipc', 'act',\n",
    "             'female_adv_pet', 'female_adv_def', 'female_petitioner',\n",
    "             'year', 'purpose_name'\n",
    "            ], axis=1, inplace=True)\n",
    "    \n",
    "    # PART3: working with dates\n",
    "    date_columns = ['date_of_decision', 'date_of_filing', 'date_first_list', 'date_last_list', 'date_next_list']\n",
    "    # parse date columns as dates\n",
    "    for date_col in date_columns:\n",
    "        df[date_col] = pd.to_datetime(df[date_col], infer_datetime_format=True, errors='coerce')\n",
    "\n",
    "    # drop rows whose dates could not be parsed\n",
    "    df.dropna(subset=date_columns, inplace=True)\n",
    "\n",
    "    # extract data\n",
    "    for date_col in date_columns:\n",
    "        df[f'{date_col}_year'] = df[date_col].dt.year\n",
    "        df[f'{date_col}_month'] = df[date_col].dt.month\n",
    "        df[f'{date_col}_day'] = df[date_col].dt.day\n",
    "\n",
    "    # delete original date columns\n",
    "    df.drop(date_columns, axis=1, inplace=True)\n",
    "\n",
    "    # PART4: working with gender columns\n",
    "    gender_columns = ['female_judge', 'female_defendant']\n",
    "    # filter out unclear genders\n",
    "    for gender_col in gender_columns:\n",
    "        # filter on valid data\n",
    "        df[gender_col] = df[gender_col].astype(str).transform(lambda gen: gen[0])\n",
    "        gender_valid_filt = (df[gender_col] == '0') | (df[gender_col] == '1')\n",
    "        df = df[gender_valid_filt]\n",
    "\n",
    "        # convert to numeric column\n",
    "        df[gender_col] = pd.to_numeric(df[gender_col])\n",
    "    \n",
    "    # PART5: we now filter to get cases in which the disposition is\n",
    "    # acquitted or convicted\n",
    "    df = pd.merge(df, dispositions_df, on='disp_name', how='inner')\n",
    "    interested_in_filt = (df['disp_name_s'] == 'acquitted') | (df['disp_name_s'] == 'convicted')\n",
    "    df = df[interested_in_filt]\n",
    "    \n",
    "    df.drop(['disp_name'], axis=1, inplace=True)\n",
    "    \n",
    "    # write df_acts_sections to a data file\n",
    "    df.to_csv('../data/_baked/ml/convicted_acquitted.csv',\n",
    "              header=(chunk == 1),\n",
    "              mode='a',\n",
    "              index=False)\n",
    "\n",
    "    print('.', end='')\n",
    "    chunk += 1\n",
    "\n",
    "print('Done.')"
   ]
  },
  {
   "cell_type": "markdown",
   "id": "209f2ce4-c8f7-475a-af9d-9a52a2f23ea0",
   "metadata": {},
   "source": [
    "### Cleaning Categorical Values\n",
    "We have 8 million rows to work with, but the categorical data present in columns `judge_position`, `court_no`, `type_name` have too many values, so we drop some values that appear less often.\n",
    "\n",
    "This sacrifices some amount of data but allows us to One Hot Encode these columns which might be useful for the models.\n",
    "\n",
    "We take the top 20 used values.\n",
    "\n",
    "> ps: I dropped `year` and `count` aswell"
   ]
  },
  {
   "cell_type": "code",
   "execution_count": 29,
   "id": "5038948b-7bb9-4229-803c-1609a7675eea",
   "metadata": {},
   "outputs": [],
   "source": [
    "data_df = pd.read_csv('../data/_baked/ml/convicted_acquitted.csv')"
   ]
  },
  {
   "cell_type": "code",
   "execution_count": null,
   "id": "7ac1bae6-7fce-4ba0-8457-fd52be6aab7a",
   "metadata": {},
   "outputs": [],
   "source": [
    "data_df.drop(['year', 'count'], axis=1, inplace=True)"
   ]
  },
  {
   "cell_type": "code",
   "execution_count": 46,
   "id": "8730e634-8f0f-4375-b2bc-9513c7f2bc56",
   "metadata": {},
   "outputs": [
    {
     "data": {
      "text/plain": [
       "Index(['state_code', 'court_no', 'judge_position', 'female_defendant',\n",
       "       'type_name', 'criminal', 'female_judge', 'date_of_decision_year',\n",
       "       'date_of_decision_month', 'date_of_decision_day', 'date_of_filing_year',\n",
       "       'date_of_filing_month', 'date_of_filing_day', 'date_first_list_year',\n",
       "       'date_first_list_month', 'date_first_list_day', 'date_last_list_year',\n",
       "       'date_last_list_month', 'date_last_list_day', 'date_next_list_year',\n",
       "       'date_next_list_month', 'date_next_list_day', 'disp_name_s'],\n",
       "      dtype='object')"
      ]
     },
     "execution_count": 46,
     "metadata": {},
     "output_type": "execute_result"
    }
   ],
   "source": [
    "data_df.columns"
   ]
  },
  {
   "cell_type": "code",
   "execution_count": 47,
   "id": "8ce0a5f4-f2b3-4966-8020-9e1fb908415d",
   "metadata": {},
   "outputs": [],
   "source": [
    "categorical_cols = ['court_no', 'judge_position', 'type_name']"
   ]
  },
  {
   "cell_type": "code",
   "execution_count": 58,
   "id": "4b893459-8fd2-4656-b14c-a1fc2fe8c796",
   "metadata": {},
   "outputs": [],
   "source": [
    "for column in categorical_cols:\n",
    "    vc_df = data_df[column].value_counts()\n",
    "    valid_values = list(vc_df.iloc[:20].index)\n",
    "\n",
    "    filt = data_df[column].isin(valid_values)\n",
    "    data_df = data_df[filt]"
   ]
  },
  {
   "cell_type": "code",
   "execution_count": 64,
   "id": "79866b43-9c06-4a57-9b2c-69c3ad0ee8b1",
   "metadata": {},
   "outputs": [
    {
     "data": {
      "text/plain": [
       "acquitted    2444265\n",
       "convicted     375201\n",
       "Name: disp_name_s, dtype: int64"
      ]
     },
     "execution_count": 64,
     "metadata": {},
     "output_type": "execute_result"
    }
   ],
   "source": [
    "data_df['disp_name_s'].value_counts()"
   ]
  },
  {
   "cell_type": "markdown",
   "id": "e4379eeb-88cd-4495-b867-2c44f77590b1",
   "metadata": {},
   "source": [
    "### One Hot Encoding"
   ]
  },
  {
   "cell_type": "code",
   "execution_count": 65,
   "id": "a55c2155-4010-4f54-be78-6c1287ffe8f6",
   "metadata": {},
   "outputs": [],
   "source": [
    "from sklearn.preprocessing import OneHotEncoder"
   ]
  },
  {
   "cell_type": "code",
   "execution_count": 66,
   "id": "7fe45db8-c72c-437e-b54a-de4b6ce74a21",
   "metadata": {},
   "outputs": [],
   "source": [
    "OH_encoder = OneHotEncoder(handle_unknown='ignore', sparse_output=False)\n",
    "\n",
    "categorical_cols_df = data_df[categorical_cols]\n",
    "numerical_df = data_df.drop(categorical_cols, axis=1)\n",
    "\n",
    "OH_categorical_cols_df = pd.DataFrame(OH_encoder.fit_transform(categorical_cols_df))\n",
    "OH_categorical_cols_df.index = categorical_cols_df.index\n",
    "\n",
    "processed_df = pd.concat([OH_categorical_cols_df, numerical_df], axis=1)"
   ]
  },
  {
   "cell_type": "markdown",
   "id": "697b0be0-0c83-475f-ba6e-03935dd96272",
   "metadata": {},
   "source": [
    "### Creating `y`\n",
    "* `y = 1` for convicted\n",
    "* `y = 0` for acquitted"
   ]
  },
  {
   "cell_type": "code",
   "execution_count": 69,
   "id": "92e7a5b8-6242-4676-8e80-fea25c92a4da",
   "metadata": {},
   "outputs": [],
   "source": [
    "processed_df['y'] = processed_df['disp_name_s'].transform(lambda disp_s: 1 if disp_s == 'convicted' else 0)"
   ]
  },
  {
   "cell_type": "code",
   "execution_count": 71,
   "id": "04c4f78b-cef6-430a-825f-685f22e3e334",
   "metadata": {},
   "outputs": [],
   "source": [
    "processed_df.drop(['disp_name_s'], axis=1, inplace=True)"
   ]
  },
  {
   "cell_type": "markdown",
   "id": "40bd0622-b75e-4c1c-9b2c-da5a6ee5cb06",
   "metadata": {},
   "source": [
    "### Store Data\n",
    "The complete data is stored, this csv file represents the dataset that will be used to train the models."
   ]
  },
  {
   "cell_type": "code",
   "execution_count": 73,
   "id": "a6ace117-7d6b-4c29-b6d8-adc3863cecd7",
   "metadata": {},
   "outputs": [
    {
     "name": "stdout",
     "output_type": "stream",
     "text": [
      "CPU times: total: 1min 9s\n",
      "Wall time: 1min 9s\n"
     ]
    }
   ],
   "source": [
    "%%time\n",
    "processed_df.to_csv('../data/_baked/ml/convicted_acquitted_processed.csv', index=False)"
   ]
  },
  {
   "cell_type": "code",
   "execution_count": 74,
   "id": "33fa1cd2-2ab8-43f7-bfc9-495aa0b47fe2",
   "metadata": {},
   "outputs": [
    {
     "data": {
      "text/plain": [
       "(2819466, 80)"
      ]
     },
     "execution_count": 74,
     "metadata": {},
     "output_type": "execute_result"
    }
   ],
   "source": [
    "processed_df.shape"
   ]
  },
  {
   "cell_type": "markdown",
   "id": "f5dbe535-80e1-4d5d-b675-1a84dfd25c53",
   "metadata": {},
   "source": [
    "### Data Split"
   ]
  },
  {
   "cell_type": "code",
   "execution_count": 75,
   "id": "badeeed1-17b5-4a59-9ddf-16d59b03bff4",
   "metadata": {},
   "outputs": [],
   "source": [
    "from sklearn.model_selection import train_test_split"
   ]
  },
  {
   "cell_type": "code",
   "execution_count": 76,
   "id": "d5cab834-3fb8-42ad-9f40-a7c1cdc0b03f",
   "metadata": {},
   "outputs": [],
   "source": [
    "X = processed_df.drop(['y'], axis=1)\n",
    "y = processed_df['y']"
   ]
  },
  {
   "cell_type": "code",
   "execution_count": 77,
   "id": "70a85d37-657f-4e19-87cf-48db93e170a4",
   "metadata": {},
   "outputs": [],
   "source": [
    "X_train, X_test, y_train, y_test = train_test_split(X, y, test_size=0.3, random_state=42)"
   ]
  },
  {
   "cell_type": "markdown",
   "id": "2807d5ac-166a-4b41-9972-5e4048b48b76",
   "metadata": {},
   "source": [
    "## Training Models\n",
    "We have finished pre-processing and cleaning data, this data is now fit to be fed into a machine learning model.\n",
    "\n",
    "We train the following models,\n",
    "* SGDClassifer\n",
    "* RandomForestClassifier"
   ]
  },
  {
   "cell_type": "markdown",
   "id": "273bb493-7993-4deb-b908-888f6451f7e8",
   "metadata": {},
   "source": [
    "### SGDClassifer\n",
    "#### Results\n",
    "Having a non-zero f1-score is definitely a nice to see, this indicated that the model has some rudimentary learning and could perhaps better on a more powerful model."
   ]
  },
  {
   "cell_type": "code",
   "execution_count": 81,
   "id": "9de50b2b-4f6e-49fd-be40-a1b2ccf42139",
   "metadata": {},
   "outputs": [],
   "source": [
    "from sklearn.linear_model import SGDClassifier\n",
    "sgd_clf = SGDClassifier(random_state=42)"
   ]
  },
  {
   "cell_type": "code",
   "execution_count": 82,
   "id": "d2831134-e22b-4416-b9d8-a9e3837840a0",
   "metadata": {},
   "outputs": [
    {
     "name": "stderr",
     "output_type": "stream",
     "text": [
      "C:\\Users\\vnnm\\AppData\\Local\\Programs\\Python\\Python311\\Lib\\site-packages\\sklearn\\linear_model\\_stochastic_gradient.py:704: ConvergenceWarning: Maximum number of iteration reached before convergence. Consider increasing max_iter to improve the fit.\n",
      "  warnings.warn(\n"
     ]
    },
    {
     "data": {
      "text/html": [
       "<style>#sk-container-id-1 {color: black;background-color: white;}#sk-container-id-1 pre{padding: 0;}#sk-container-id-1 div.sk-toggleable {background-color: white;}#sk-container-id-1 label.sk-toggleable__label {cursor: pointer;display: block;width: 100%;margin-bottom: 0;padding: 0.3em;box-sizing: border-box;text-align: center;}#sk-container-id-1 label.sk-toggleable__label-arrow:before {content: \"▸\";float: left;margin-right: 0.25em;color: #696969;}#sk-container-id-1 label.sk-toggleable__label-arrow:hover:before {color: black;}#sk-container-id-1 div.sk-estimator:hover label.sk-toggleable__label-arrow:before {color: black;}#sk-container-id-1 div.sk-toggleable__content {max-height: 0;max-width: 0;overflow: hidden;text-align: left;background-color: #f0f8ff;}#sk-container-id-1 div.sk-toggleable__content pre {margin: 0.2em;color: black;border-radius: 0.25em;background-color: #f0f8ff;}#sk-container-id-1 input.sk-toggleable__control:checked~div.sk-toggleable__content {max-height: 200px;max-width: 100%;overflow: auto;}#sk-container-id-1 input.sk-toggleable__control:checked~label.sk-toggleable__label-arrow:before {content: \"▾\";}#sk-container-id-1 div.sk-estimator input.sk-toggleable__control:checked~label.sk-toggleable__label {background-color: #d4ebff;}#sk-container-id-1 div.sk-label input.sk-toggleable__control:checked~label.sk-toggleable__label {background-color: #d4ebff;}#sk-container-id-1 input.sk-hidden--visually {border: 0;clip: rect(1px 1px 1px 1px);clip: rect(1px, 1px, 1px, 1px);height: 1px;margin: -1px;overflow: hidden;padding: 0;position: absolute;width: 1px;}#sk-container-id-1 div.sk-estimator {font-family: monospace;background-color: #f0f8ff;border: 1px dotted black;border-radius: 0.25em;box-sizing: border-box;margin-bottom: 0.5em;}#sk-container-id-1 div.sk-estimator:hover {background-color: #d4ebff;}#sk-container-id-1 div.sk-parallel-item::after {content: \"\";width: 100%;border-bottom: 1px solid gray;flex-grow: 1;}#sk-container-id-1 div.sk-label:hover label.sk-toggleable__label {background-color: #d4ebff;}#sk-container-id-1 div.sk-serial::before {content: \"\";position: absolute;border-left: 1px solid gray;box-sizing: border-box;top: 0;bottom: 0;left: 50%;z-index: 0;}#sk-container-id-1 div.sk-serial {display: flex;flex-direction: column;align-items: center;background-color: white;padding-right: 0.2em;padding-left: 0.2em;position: relative;}#sk-container-id-1 div.sk-item {position: relative;z-index: 1;}#sk-container-id-1 div.sk-parallel {display: flex;align-items: stretch;justify-content: center;background-color: white;position: relative;}#sk-container-id-1 div.sk-item::before, #sk-container-id-1 div.sk-parallel-item::before {content: \"\";position: absolute;border-left: 1px solid gray;box-sizing: border-box;top: 0;bottom: 0;left: 50%;z-index: -1;}#sk-container-id-1 div.sk-parallel-item {display: flex;flex-direction: column;z-index: 1;position: relative;background-color: white;}#sk-container-id-1 div.sk-parallel-item:first-child::after {align-self: flex-end;width: 50%;}#sk-container-id-1 div.sk-parallel-item:last-child::after {align-self: flex-start;width: 50%;}#sk-container-id-1 div.sk-parallel-item:only-child::after {width: 0;}#sk-container-id-1 div.sk-dashed-wrapped {border: 1px dashed gray;margin: 0 0.4em 0.5em 0.4em;box-sizing: border-box;padding-bottom: 0.4em;background-color: white;}#sk-container-id-1 div.sk-label label {font-family: monospace;font-weight: bold;display: inline-block;line-height: 1.2em;}#sk-container-id-1 div.sk-label-container {text-align: center;}#sk-container-id-1 div.sk-container {/* jupyter's `normalize.less` sets `[hidden] { display: none; }` but bootstrap.min.css set `[hidden] { display: none !important; }` so we also need the `!important` here to be able to override the default hidden behavior on the sphinx rendered scikit-learn.org. See: https://github.com/scikit-learn/scikit-learn/issues/21755 */display: inline-block !important;position: relative;}#sk-container-id-1 div.sk-text-repr-fallback {display: none;}</style><div id=\"sk-container-id-1\" class=\"sk-top-container\"><div class=\"sk-text-repr-fallback\"><pre>SGDClassifier(random_state=42)</pre><b>In a Jupyter environment, please rerun this cell to show the HTML representation or trust the notebook. <br />On GitHub, the HTML representation is unable to render, please try loading this page with nbviewer.org.</b></div><div class=\"sk-container\" hidden><div class=\"sk-item\"><div class=\"sk-estimator sk-toggleable\"><input class=\"sk-toggleable__control sk-hidden--visually\" id=\"sk-estimator-id-1\" type=\"checkbox\" checked><label for=\"sk-estimator-id-1\" class=\"sk-toggleable__label sk-toggleable__label-arrow\">SGDClassifier</label><div class=\"sk-toggleable__content\"><pre>SGDClassifier(random_state=42)</pre></div></div></div></div></div>"
      ],
      "text/plain": [
       "SGDClassifier(random_state=42)"
      ]
     },
     "execution_count": 82,
     "metadata": {},
     "output_type": "execute_result"
    }
   ],
   "source": [
    "sgd_clf.fit(X_train.values, y_train.values)"
   ]
  },
  {
   "cell_type": "code",
   "execution_count": 83,
   "id": "a46fb01d-cf2d-4de9-85b5-5c495605544d",
   "metadata": {},
   "outputs": [],
   "source": [
    "y_test_pred = sgd_clf.predict(X_test.values)"
   ]
  },
  {
   "cell_type": "code",
   "execution_count": 84,
   "id": "51b974e8-611b-45f8-acea-0135c402aa1d",
   "metadata": {},
   "outputs": [
    {
     "name": "stdout",
     "output_type": "stream",
     "text": [
      "              precision    recall  f1-score   support\n",
      "\n",
      "           0       0.87      1.00      0.93    733284\n",
      "           1       0.86      0.06      0.11    112556\n",
      "\n",
      "    accuracy                           0.87    845840\n",
      "   macro avg       0.87      0.53      0.52    845840\n",
      "weighted avg       0.87      0.87      0.82    845840\n",
      "\n"
     ]
    }
   ],
   "source": [
    "from sklearn.metrics import classification_report\n",
    "print(classification_report(y_test.values, y_test_pred))"
   ]
  },
  {
   "cell_type": "markdown",
   "id": "50d3f966-eb82-468b-bc34-5d7b70151533",
   "metadata": {},
   "source": [
    "### RandomForest Classifer\n",
    "#### Results\n",
    "A high degree of learning is displayed here, `cross_val_score` here is nearly 99%. The f1-score being 1 for `acquitted` cases indicates the model never guessed wrong about when a defendant is not guilty. The f1-score for `convicted` is 0.98 which is incredibly high and can thus be used to help ascertain whether a defendant is guilty or not."
   ]
  },
  {
   "cell_type": "code",
   "execution_count": 85,
   "id": "a4f13e51-3d9f-4a18-8ab1-0ecab5d861d6",
   "metadata": {},
   "outputs": [],
   "source": [
    "from sklearn.ensemble import RandomForestClassifier\n",
    "rf_clf = RandomForestClassifier(random_state=42)"
   ]
  },
  {
   "cell_type": "code",
   "execution_count": 86,
   "id": "8d4af601-9b59-4aea-a345-eb2468680e81",
   "metadata": {},
   "outputs": [
    {
     "name": "stdout",
     "output_type": "stream",
     "text": [
      "CPU times: total: 7min 26s\n",
      "Wall time: 7min 28s\n"
     ]
    },
    {
     "data": {
      "text/html": [
       "<style>#sk-container-id-2 {color: black;background-color: white;}#sk-container-id-2 pre{padding: 0;}#sk-container-id-2 div.sk-toggleable {background-color: white;}#sk-container-id-2 label.sk-toggleable__label {cursor: pointer;display: block;width: 100%;margin-bottom: 0;padding: 0.3em;box-sizing: border-box;text-align: center;}#sk-container-id-2 label.sk-toggleable__label-arrow:before {content: \"▸\";float: left;margin-right: 0.25em;color: #696969;}#sk-container-id-2 label.sk-toggleable__label-arrow:hover:before {color: black;}#sk-container-id-2 div.sk-estimator:hover label.sk-toggleable__label-arrow:before {color: black;}#sk-container-id-2 div.sk-toggleable__content {max-height: 0;max-width: 0;overflow: hidden;text-align: left;background-color: #f0f8ff;}#sk-container-id-2 div.sk-toggleable__content pre {margin: 0.2em;color: black;border-radius: 0.25em;background-color: #f0f8ff;}#sk-container-id-2 input.sk-toggleable__control:checked~div.sk-toggleable__content {max-height: 200px;max-width: 100%;overflow: auto;}#sk-container-id-2 input.sk-toggleable__control:checked~label.sk-toggleable__label-arrow:before {content: \"▾\";}#sk-container-id-2 div.sk-estimator input.sk-toggleable__control:checked~label.sk-toggleable__label {background-color: #d4ebff;}#sk-container-id-2 div.sk-label input.sk-toggleable__control:checked~label.sk-toggleable__label {background-color: #d4ebff;}#sk-container-id-2 input.sk-hidden--visually {border: 0;clip: rect(1px 1px 1px 1px);clip: rect(1px, 1px, 1px, 1px);height: 1px;margin: -1px;overflow: hidden;padding: 0;position: absolute;width: 1px;}#sk-container-id-2 div.sk-estimator {font-family: monospace;background-color: #f0f8ff;border: 1px dotted black;border-radius: 0.25em;box-sizing: border-box;margin-bottom: 0.5em;}#sk-container-id-2 div.sk-estimator:hover {background-color: #d4ebff;}#sk-container-id-2 div.sk-parallel-item::after {content: \"\";width: 100%;border-bottom: 1px solid gray;flex-grow: 1;}#sk-container-id-2 div.sk-label:hover label.sk-toggleable__label {background-color: #d4ebff;}#sk-container-id-2 div.sk-serial::before {content: \"\";position: absolute;border-left: 1px solid gray;box-sizing: border-box;top: 0;bottom: 0;left: 50%;z-index: 0;}#sk-container-id-2 div.sk-serial {display: flex;flex-direction: column;align-items: center;background-color: white;padding-right: 0.2em;padding-left: 0.2em;position: relative;}#sk-container-id-2 div.sk-item {position: relative;z-index: 1;}#sk-container-id-2 div.sk-parallel {display: flex;align-items: stretch;justify-content: center;background-color: white;position: relative;}#sk-container-id-2 div.sk-item::before, #sk-container-id-2 div.sk-parallel-item::before {content: \"\";position: absolute;border-left: 1px solid gray;box-sizing: border-box;top: 0;bottom: 0;left: 50%;z-index: -1;}#sk-container-id-2 div.sk-parallel-item {display: flex;flex-direction: column;z-index: 1;position: relative;background-color: white;}#sk-container-id-2 div.sk-parallel-item:first-child::after {align-self: flex-end;width: 50%;}#sk-container-id-2 div.sk-parallel-item:last-child::after {align-self: flex-start;width: 50%;}#sk-container-id-2 div.sk-parallel-item:only-child::after {width: 0;}#sk-container-id-2 div.sk-dashed-wrapped {border: 1px dashed gray;margin: 0 0.4em 0.5em 0.4em;box-sizing: border-box;padding-bottom: 0.4em;background-color: white;}#sk-container-id-2 div.sk-label label {font-family: monospace;font-weight: bold;display: inline-block;line-height: 1.2em;}#sk-container-id-2 div.sk-label-container {text-align: center;}#sk-container-id-2 div.sk-container {/* jupyter's `normalize.less` sets `[hidden] { display: none; }` but bootstrap.min.css set `[hidden] { display: none !important; }` so we also need the `!important` here to be able to override the default hidden behavior on the sphinx rendered scikit-learn.org. See: https://github.com/scikit-learn/scikit-learn/issues/21755 */display: inline-block !important;position: relative;}#sk-container-id-2 div.sk-text-repr-fallback {display: none;}</style><div id=\"sk-container-id-2\" class=\"sk-top-container\"><div class=\"sk-text-repr-fallback\"><pre>RandomForestClassifier(random_state=42)</pre><b>In a Jupyter environment, please rerun this cell to show the HTML representation or trust the notebook. <br />On GitHub, the HTML representation is unable to render, please try loading this page with nbviewer.org.</b></div><div class=\"sk-container\" hidden><div class=\"sk-item\"><div class=\"sk-estimator sk-toggleable\"><input class=\"sk-toggleable__control sk-hidden--visually\" id=\"sk-estimator-id-2\" type=\"checkbox\" checked><label for=\"sk-estimator-id-2\" class=\"sk-toggleable__label sk-toggleable__label-arrow\">RandomForestClassifier</label><div class=\"sk-toggleable__content\"><pre>RandomForestClassifier(random_state=42)</pre></div></div></div></div></div>"
      ],
      "text/plain": [
       "RandomForestClassifier(random_state=42)"
      ]
     },
     "execution_count": 86,
     "metadata": {},
     "output_type": "execute_result"
    }
   ],
   "source": [
    "%%time\n",
    "rf_clf.fit(X_train.values, y_train.values)"
   ]
  },
  {
   "cell_type": "code",
   "execution_count": 87,
   "id": "5f93f009-1e74-4298-9b83-1e0c4ff1db40",
   "metadata": {},
   "outputs": [
    {
     "name": "stdout",
     "output_type": "stream",
     "text": [
      "              precision    recall  f1-score   support\n",
      "\n",
      "           0       1.00      1.00      1.00    733284\n",
      "           1       0.99      0.97      0.98    112556\n",
      "\n",
      "    accuracy                           1.00    845840\n",
      "   macro avg       0.99      0.98      0.99    845840\n",
      "weighted avg       1.00      1.00      1.00    845840\n",
      "\n"
     ]
    }
   ],
   "source": [
    "y_test_pred = rf_clf.predict(X_test.values)\n",
    "print(classification_report(y_test.values, y_test_pred))"
   ]
  },
  {
   "cell_type": "code",
   "execution_count": 89,
   "id": "1eb0d667-6e72-467d-b486-1aa87de9a90c",
   "metadata": {},
   "outputs": [
    {
     "data": {
      "text/plain": [
       "array([0.98968803, 0.98978833, 0.98967737])"
      ]
     },
     "execution_count": 89,
     "metadata": {},
     "output_type": "execute_result"
    }
   ],
   "source": [
    "from sklearn.model_selection import cross_val_score\n",
    "cross_val_score(rf_clf, X_train.values, y_train.values, cv=3, scoring=\"accuracy\")"
   ]
  },
  {
   "cell_type": "markdown",
   "id": "e638c26c-4a09-446d-a606-7c60b774755a",
   "metadata": {},
   "source": [
    "## Conclusion\n",
    "Thus, we have trained an incredibly accurate model to ascertain whether a defendant would be found guilty or not based on case metadata.\n",
    "\n",
    "We reached an incredibly high accuracy with the RandomForestClassifer and so no other models are tested, however if we wish to tweak accuracy further we could use deep learning with `keras` or `pytorch` or extreme gradient boosting with `xgboost`.\n",
    "\n",
    "## Insights\n",
    "* There is strong interdependence between case metadata and the verdict of the case (evident from model accuracy).\n",
    "* We could deploy the model in court to speed up decision making.\n",
    "* Judges could use this to help make a decision when the evidence is unclear or non-existent.\n",
    "* The police can identify patterns in `acquitted` and `convicted` cases to identify regions of high crime rate or times during the years when the force should be strengthened for heightened crime."
   ]
  }
 ],
 "metadata": {
  "kernelspec": {
   "display_name": "Python 3 (ipykernel)",
   "language": "python",
   "name": "python3"
  },
  "language_info": {
   "codemirror_mode": {
    "name": "ipython",
    "version": 3
   },
   "file_extension": ".py",
   "mimetype": "text/x-python",
   "name": "python",
   "nbconvert_exporter": "python",
   "pygments_lexer": "ipython3",
   "version": "3.11.0"
  }
 },
 "nbformat": 4,
 "nbformat_minor": 5
}
